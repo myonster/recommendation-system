{
  "cells": [
    {
      "cell_type": "code",
      "execution_count": 3,
      "metadata": {
        "id": "PyD9nfUvioaY"
      },
      "outputs": [],
      "source": [
        "import pandas as pd\n",
        "import numpy as np\n",
        "from matplotlib import pyplot as plt\n",
        "import seaborn as sns\n",
        "from google.colab import drive\n",
        "from gensim.models import Word2Vec\n",
        "import pandas as pd\n",
        "from scipy.sparse import csr_matrix\n",
        "from sklearn.preprocessing import LabelEncoder\n",
        "from sklearn.preprocessing import StandardScaler\n",
        "from sklearn.cluster import KMeans\n",
        "from sklearn.feature_extraction.text import TfidfVectorizer\n",
        "from sklearn.metrics.pairwise import cosine_similarity"
      ]
    },
    {
      "cell_type": "markdown",
      "metadata": {},
      "source": [
        "basic recommendation system models for a Fashion e-commerce platform\n",
        "\n",
        "The fashion e-commerce platform currently collects various data points from customer transactions over a 1 month period and has a database of its fashion products. You will be provided with 2 datasets.\n",
        "1. Transactions dataset (transactions_train.csv) which represents all the transactions made in the store.\n",
        "2. Articles dataset (articles.csv) which represents all the items found in its catalog.\n",
        "\n",
        "downloaded directly from https://www.kaggle.com/competitions/h-and-m-personalized-fashion-recommendations/data **(transactions_train.csv and articles.csv)**\n"
      ]
    },
    {
      "cell_type": "code",
      "execution_count": 4,
      "metadata": {
        "colab": {
          "base_uri": "https://localhost:8080/"
        },
        "id": "-DakaRN1mET9",
        "outputId": "faf97900-a1f2-47f6-9ace-15673eb2cea4"
      },
      "outputs": [
        {
          "name": "stdout",
          "output_type": "stream",
          "text": [
            "Drive already mounted at /content/drive; to attempt to forcibly remount, call drive.mount(\"/content/drive\", force_remount=True).\n"
          ]
        }
      ],
      "source": [
        "# Uncomment to mount Google Drive\n",
        "drive.mount('/content/drive')"
      ]
    },
    {
      "cell_type": "code",
      "execution_count": 5,
      "metadata": {
        "id": "yfNJ6-dMPIKd"
      },
      "outputs": [],
      "source": [
        "# Read csv file from a directory into pandas DataFrame\n",
        "# Modify directory if needed\n",
        "\n",
        "df_a = pd.read_csv(\"/content/drive/MyDrive/Colab Notebooks/data/articles.csv\")\n",
        "df_t = pd.read_csv(\"/content/drive/MyDrive/Colab Notebooks/data/transactions_train.csv\")"
      ]
    },
    {
      "cell_type": "code",
      "execution_count": 6,
      "metadata": {
        "id": "C2HG02WIn02b"
      },
      "outputs": [],
      "source": [
        "# DO NOT MODIFY ANY OF THE CODE FOUND IN THIS BLOCK. Just run this code block.\n",
        "# Ensuring that 't_dat' is in date time format\n",
        "df_t['t_dat'] = pd.to_datetime(df_t['t_dat'], format=\"%Y-%m-%d\")\n",
        "\n",
        "# Filtering transactions data to 1 month period\n",
        "df_t = df_t[(df_t['t_dat'] >= '2019-09-20') & (df_t['t_dat'] <= '2019-10-20')]\n",
        "\n",
        "# Filtering articles dataset\n",
        "df_a = df_a[df_a['article_id'].isin(df_t['article_id'].unique())]\n",
        "\n",
        "# Keeping columns required for assignment\n",
        "columns_to_keep_a = ['article_id', 'prod_name', 'product_type_name', 'product_group_name',\n",
        "                     'colour_group_name', 'perceived_colour_master_name', 'index_group_name',\n",
        "                     'garment_group_name', 'detail_desc']\n",
        "\n",
        "# Filter dataframe to retain only the required columns\n",
        "df_a = df_a[columns_to_keep_a]"
      ]
    },
    {
      "cell_type": "markdown",
      "metadata": {
        "id": "3H0SFzBSpXpF"
      },
      "source": [
        "## Data Description"
      ]
    },
    {
      "cell_type": "markdown",
      "metadata": {
        "id": "A4Sm0dD6QqAu"
      },
      "source": [
        "Transactions Dataset (df_t)\n",
        "1. t_dat: Date of transaction\n",
        "2. customer_id: Unique identifier for customers\n",
        "3. article_id: Unique identifer of item bought by the customer\n",
        "4. price: Price of item (anonymised scale)\n",
        "5. sales_channel_id: Sales channel the item was bought from\n",
        "\n",
        "Articles Dataset (df_a)\n",
        "1. article_id: Unique identifer of item\n",
        "2. prod_name: Name of product\n",
        "3. product_type_name: Type of product\n",
        "4. product_group_name: Group of product\n",
        "5. colour_group_name: Colour of product\n",
        "6. perceived_colour_master_name: General colour of product\n",
        "7. index_group_name: Category of product\n",
        "8. garment_group_name: Garment of product\n",
        "9. detail_desc: Detailed description of products"
      ]
    },
    {
      "cell_type": "code",
      "execution_count": 7,
      "metadata": {
        "colab": {
          "base_uri": "https://localhost:8080/",
          "height": 206
        },
        "id": "WI5u8HkNpZJo",
        "outputId": "3f055281-a167-4919-c441-7b88f0452052"
      },
      "outputs": [
        {
          "data": {
            "application/vnd.google.colaboratory.intrinsic+json": {
              "type": "dataframe",
              "variable_name": "df_t"
            },
            "text/html": [
              "\n",
              "  <div id=\"df-ef4c54ea-8acd-43a7-8d83-4778efa406af\" class=\"colab-df-container\">\n",
              "    <div>\n",
              "<style scoped>\n",
              "    .dataframe tbody tr th:only-of-type {\n",
              "        vertical-align: middle;\n",
              "    }\n",
              "\n",
              "    .dataframe tbody tr th {\n",
              "        vertical-align: top;\n",
              "    }\n",
              "\n",
              "    .dataframe thead th {\n",
              "        text-align: right;\n",
              "    }\n",
              "</style>\n",
              "<table border=\"1\" class=\"dataframe\">\n",
              "  <thead>\n",
              "    <tr style=\"text-align: right;\">\n",
              "      <th></th>\n",
              "      <th>t_dat</th>\n",
              "      <th>customer_id</th>\n",
              "      <th>article_id</th>\n",
              "      <th>price</th>\n",
              "      <th>sales_channel_id</th>\n",
              "    </tr>\n",
              "  </thead>\n",
              "  <tbody>\n",
              "    <tr>\n",
              "      <th>16803901</th>\n",
              "      <td>2019-09-20</td>\n",
              "      <td>0001d44dbe7f6c4b35200abdb052c77a87596fe1bdcc37...</td>\n",
              "      <td>745014003</td>\n",
              "      <td>0.020322</td>\n",
              "      <td>2</td>\n",
              "    </tr>\n",
              "    <tr>\n",
              "      <th>16803902</th>\n",
              "      <td>2019-09-20</td>\n",
              "      <td>0001d44dbe7f6c4b35200abdb052c77a87596fe1bdcc37...</td>\n",
              "      <td>812484002</td>\n",
              "      <td>0.054220</td>\n",
              "      <td>2</td>\n",
              "    </tr>\n",
              "    <tr>\n",
              "      <th>16803903</th>\n",
              "      <td>2019-09-20</td>\n",
              "      <td>0001d44dbe7f6c4b35200abdb052c77a87596fe1bdcc37...</td>\n",
              "      <td>733098013</td>\n",
              "      <td>0.003373</td>\n",
              "      <td>2</td>\n",
              "    </tr>\n",
              "    <tr>\n",
              "      <th>16803904</th>\n",
              "      <td>2019-09-20</td>\n",
              "      <td>0001d44dbe7f6c4b35200abdb052c77a87596fe1bdcc37...</td>\n",
              "      <td>802842001</td>\n",
              "      <td>0.028797</td>\n",
              "      <td>2</td>\n",
              "    </tr>\n",
              "    <tr>\n",
              "      <th>16803905</th>\n",
              "      <td>2019-09-20</td>\n",
              "      <td>0001d44dbe7f6c4b35200abdb052c77a87596fe1bdcc37...</td>\n",
              "      <td>802842001</td>\n",
              "      <td>0.028797</td>\n",
              "      <td>2</td>\n",
              "    </tr>\n",
              "  </tbody>\n",
              "</table>\n",
              "</div>\n",
              "    <div class=\"colab-df-buttons\">\n",
              "\n",
              "  <div class=\"colab-df-container\">\n",
              "    <button class=\"colab-df-convert\" onclick=\"convertToInteractive('df-ef4c54ea-8acd-43a7-8d83-4778efa406af')\"\n",
              "            title=\"Convert this dataframe to an interactive table.\"\n",
              "            style=\"display:none;\">\n",
              "\n",
              "  <svg xmlns=\"http://www.w3.org/2000/svg\" height=\"24px\" viewBox=\"0 -960 960 960\">\n",
              "    <path d=\"M120-120v-720h720v720H120Zm60-500h600v-160H180v160Zm220 220h160v-160H400v160Zm0 220h160v-160H400v160ZM180-400h160v-160H180v160Zm440 0h160v-160H620v160ZM180-180h160v-160H180v160Zm440 0h160v-160H620v160Z\"/>\n",
              "  </svg>\n",
              "    </button>\n",
              "\n",
              "  <style>\n",
              "    .colab-df-container {\n",
              "      display:flex;\n",
              "      gap: 12px;\n",
              "    }\n",
              "\n",
              "    .colab-df-convert {\n",
              "      background-color: #E8F0FE;\n",
              "      border: none;\n",
              "      border-radius: 50%;\n",
              "      cursor: pointer;\n",
              "      display: none;\n",
              "      fill: #1967D2;\n",
              "      height: 32px;\n",
              "      padding: 0 0 0 0;\n",
              "      width: 32px;\n",
              "    }\n",
              "\n",
              "    .colab-df-convert:hover {\n",
              "      background-color: #E2EBFA;\n",
              "      box-shadow: 0px 1px 2px rgba(60, 64, 67, 0.3), 0px 1px 3px 1px rgba(60, 64, 67, 0.15);\n",
              "      fill: #174EA6;\n",
              "    }\n",
              "\n",
              "    .colab-df-buttons div {\n",
              "      margin-bottom: 4px;\n",
              "    }\n",
              "\n",
              "    [theme=dark] .colab-df-convert {\n",
              "      background-color: #3B4455;\n",
              "      fill: #D2E3FC;\n",
              "    }\n",
              "\n",
              "    [theme=dark] .colab-df-convert:hover {\n",
              "      background-color: #434B5C;\n",
              "      box-shadow: 0px 1px 3px 1px rgba(0, 0, 0, 0.15);\n",
              "      filter: drop-shadow(0px 1px 2px rgba(0, 0, 0, 0.3));\n",
              "      fill: #FFFFFF;\n",
              "    }\n",
              "  </style>\n",
              "\n",
              "    <script>\n",
              "      const buttonEl =\n",
              "        document.querySelector('#df-ef4c54ea-8acd-43a7-8d83-4778efa406af button.colab-df-convert');\n",
              "      buttonEl.style.display =\n",
              "        google.colab.kernel.accessAllowed ? 'block' : 'none';\n",
              "\n",
              "      async function convertToInteractive(key) {\n",
              "        const element = document.querySelector('#df-ef4c54ea-8acd-43a7-8d83-4778efa406af');\n",
              "        const dataTable =\n",
              "          await google.colab.kernel.invokeFunction('convertToInteractive',\n",
              "                                                    [key], {});\n",
              "        if (!dataTable) return;\n",
              "\n",
              "        const docLinkHtml = 'Like what you see? Visit the ' +\n",
              "          '<a target=\"_blank\" href=https://colab.research.google.com/notebooks/data_table.ipynb>data table notebook</a>'\n",
              "          + ' to learn more about interactive tables.';\n",
              "        element.innerHTML = '';\n",
              "        dataTable['output_type'] = 'display_data';\n",
              "        await google.colab.output.renderOutput(dataTable, element);\n",
              "        const docLink = document.createElement('div');\n",
              "        docLink.innerHTML = docLinkHtml;\n",
              "        element.appendChild(docLink);\n",
              "      }\n",
              "    </script>\n",
              "  </div>\n",
              "\n",
              "\n",
              "<div id=\"df-d4d417cb-3739-405b-9538-19a414d252c3\">\n",
              "  <button class=\"colab-df-quickchart\" onclick=\"quickchart('df-d4d417cb-3739-405b-9538-19a414d252c3')\"\n",
              "            title=\"Suggest charts\"\n",
              "            style=\"display:none;\">\n",
              "\n",
              "<svg xmlns=\"http://www.w3.org/2000/svg\" height=\"24px\"viewBox=\"0 0 24 24\"\n",
              "     width=\"24px\">\n",
              "    <g>\n",
              "        <path d=\"M19 3H5c-1.1 0-2 .9-2 2v14c0 1.1.9 2 2 2h14c1.1 0 2-.9 2-2V5c0-1.1-.9-2-2-2zM9 17H7v-7h2v7zm4 0h-2V7h2v10zm4 0h-2v-4h2v4z\"/>\n",
              "    </g>\n",
              "</svg>\n",
              "  </button>\n",
              "\n",
              "<style>\n",
              "  .colab-df-quickchart {\n",
              "      --bg-color: #E8F0FE;\n",
              "      --fill-color: #1967D2;\n",
              "      --hover-bg-color: #E2EBFA;\n",
              "      --hover-fill-color: #174EA6;\n",
              "      --disabled-fill-color: #AAA;\n",
              "      --disabled-bg-color: #DDD;\n",
              "  }\n",
              "\n",
              "  [theme=dark] .colab-df-quickchart {\n",
              "      --bg-color: #3B4455;\n",
              "      --fill-color: #D2E3FC;\n",
              "      --hover-bg-color: #434B5C;\n",
              "      --hover-fill-color: #FFFFFF;\n",
              "      --disabled-bg-color: #3B4455;\n",
              "      --disabled-fill-color: #666;\n",
              "  }\n",
              "\n",
              "  .colab-df-quickchart {\n",
              "    background-color: var(--bg-color);\n",
              "    border: none;\n",
              "    border-radius: 50%;\n",
              "    cursor: pointer;\n",
              "    display: none;\n",
              "    fill: var(--fill-color);\n",
              "    height: 32px;\n",
              "    padding: 0;\n",
              "    width: 32px;\n",
              "  }\n",
              "\n",
              "  .colab-df-quickchart:hover {\n",
              "    background-color: var(--hover-bg-color);\n",
              "    box-shadow: 0 1px 2px rgba(60, 64, 67, 0.3), 0 1px 3px 1px rgba(60, 64, 67, 0.15);\n",
              "    fill: var(--button-hover-fill-color);\n",
              "  }\n",
              "\n",
              "  .colab-df-quickchart-complete:disabled,\n",
              "  .colab-df-quickchart-complete:disabled:hover {\n",
              "    background-color: var(--disabled-bg-color);\n",
              "    fill: var(--disabled-fill-color);\n",
              "    box-shadow: none;\n",
              "  }\n",
              "\n",
              "  .colab-df-spinner {\n",
              "    border: 2px solid var(--fill-color);\n",
              "    border-color: transparent;\n",
              "    border-bottom-color: var(--fill-color);\n",
              "    animation:\n",
              "      spin 1s steps(1) infinite;\n",
              "  }\n",
              "\n",
              "  @keyframes spin {\n",
              "    0% {\n",
              "      border-color: transparent;\n",
              "      border-bottom-color: var(--fill-color);\n",
              "      border-left-color: var(--fill-color);\n",
              "    }\n",
              "    20% {\n",
              "      border-color: transparent;\n",
              "      border-left-color: var(--fill-color);\n",
              "      border-top-color: var(--fill-color);\n",
              "    }\n",
              "    30% {\n",
              "      border-color: transparent;\n",
              "      border-left-color: var(--fill-color);\n",
              "      border-top-color: var(--fill-color);\n",
              "      border-right-color: var(--fill-color);\n",
              "    }\n",
              "    40% {\n",
              "      border-color: transparent;\n",
              "      border-right-color: var(--fill-color);\n",
              "      border-top-color: var(--fill-color);\n",
              "    }\n",
              "    60% {\n",
              "      border-color: transparent;\n",
              "      border-right-color: var(--fill-color);\n",
              "    }\n",
              "    80% {\n",
              "      border-color: transparent;\n",
              "      border-right-color: var(--fill-color);\n",
              "      border-bottom-color: var(--fill-color);\n",
              "    }\n",
              "    90% {\n",
              "      border-color: transparent;\n",
              "      border-bottom-color: var(--fill-color);\n",
              "    }\n",
              "  }\n",
              "</style>\n",
              "\n",
              "  <script>\n",
              "    async function quickchart(key) {\n",
              "      const quickchartButtonEl =\n",
              "        document.querySelector('#' + key + ' button');\n",
              "      quickchartButtonEl.disabled = true;  // To prevent multiple clicks.\n",
              "      quickchartButtonEl.classList.add('colab-df-spinner');\n",
              "      try {\n",
              "        const charts = await google.colab.kernel.invokeFunction(\n",
              "            'suggestCharts', [key], {});\n",
              "      } catch (error) {\n",
              "        console.error('Error during call to suggestCharts:', error);\n",
              "      }\n",
              "      quickchartButtonEl.classList.remove('colab-df-spinner');\n",
              "      quickchartButtonEl.classList.add('colab-df-quickchart-complete');\n",
              "    }\n",
              "    (() => {\n",
              "      let quickchartButtonEl =\n",
              "        document.querySelector('#df-d4d417cb-3739-405b-9538-19a414d252c3 button');\n",
              "      quickchartButtonEl.style.display =\n",
              "        google.colab.kernel.accessAllowed ? 'block' : 'none';\n",
              "    })();\n",
              "  </script>\n",
              "</div>\n",
              "\n",
              "    </div>\n",
              "  </div>\n"
            ],
            "text/plain": [
              "              t_dat                                        customer_id  \\\n",
              "16803901 2019-09-20  0001d44dbe7f6c4b35200abdb052c77a87596fe1bdcc37...   \n",
              "16803902 2019-09-20  0001d44dbe7f6c4b35200abdb052c77a87596fe1bdcc37...   \n",
              "16803903 2019-09-20  0001d44dbe7f6c4b35200abdb052c77a87596fe1bdcc37...   \n",
              "16803904 2019-09-20  0001d44dbe7f6c4b35200abdb052c77a87596fe1bdcc37...   \n",
              "16803905 2019-09-20  0001d44dbe7f6c4b35200abdb052c77a87596fe1bdcc37...   \n",
              "\n",
              "          article_id     price  sales_channel_id  \n",
              "16803901   745014003  0.020322                 2  \n",
              "16803902   812484002  0.054220                 2  \n",
              "16803903   733098013  0.003373                 2  \n",
              "16803904   802842001  0.028797                 2  \n",
              "16803905   802842001  0.028797                 2  "
            ]
          },
          "execution_count": 7,
          "metadata": {},
          "output_type": "execute_result"
        }
      ],
      "source": [
        "df_t.head()"
      ]
    },
    {
      "cell_type": "code",
      "execution_count": 8,
      "metadata": {
        "colab": {
          "base_uri": "https://localhost:8080/",
          "height": 206
        },
        "id": "Uf-y-q-sqQGd",
        "outputId": "cc59ba38-acb9-446c-fb0d-0a6fd7479db6"
      },
      "outputs": [
        {
          "data": {
            "application/vnd.google.colaboratory.intrinsic+json": {
              "summary": "{\n  \"name\": \"df_a\",\n  \"rows\": 31042,\n  \"fields\": [\n    {\n      \"column\": \"article_id\",\n      \"properties\": {\n        \"dtype\": \"number\",\n        \"std\": 108084606,\n        \"min\": 108775015,\n        \"max\": 856173001,\n        \"num_unique_values\": 31042,\n        \"samples\": [\n          743909009,\n          687734001,\n          711053011\n        ],\n        \"semantic_type\": \"\",\n        \"description\": \"\"\n      }\n    },\n    {\n      \"column\": \"prod_name\",\n      \"properties\": {\n        \"dtype\": \"string\",\n        \"num_unique_values\": 16509,\n        \"samples\": [\n          \"CSP Alma pliss\\u00e9\",\n          \"Bounty\",\n          \"Jack beanie(1)\"\n        ],\n        \"semantic_type\": \"\",\n        \"description\": \"\"\n      }\n    },\n    {\n      \"column\": \"product_type_name\",\n      \"properties\": {\n        \"dtype\": \"category\",\n        \"num_unique_values\": 112,\n        \"samples\": [\n          \"Other accessories\",\n          \"Braces\",\n          \"Trousers\"\n        ],\n        \"semantic_type\": \"\",\n        \"description\": \"\"\n      }\n    },\n    {\n      \"column\": \"product_group_name\",\n      \"properties\": {\n        \"dtype\": \"category\",\n        \"num_unique_values\": 17,\n        \"samples\": [\n          \"Garment Upper body\",\n          \"Underwear\",\n          \"Items\"\n        ],\n        \"semantic_type\": \"\",\n        \"description\": \"\"\n      }\n    },\n    {\n      \"column\": \"colour_group_name\",\n      \"properties\": {\n        \"dtype\": \"category\",\n        \"num_unique_values\": 50,\n        \"samples\": [\n          \"Yellowish Brown\",\n          \"Light Green\",\n          \"Dark Orange\"\n        ],\n        \"semantic_type\": \"\",\n        \"description\": \"\"\n      }\n    },\n    {\n      \"column\": \"perceived_colour_master_name\",\n      \"properties\": {\n        \"dtype\": \"category\",\n        \"num_unique_values\": 19,\n        \"samples\": [\n          \"Black\",\n          \"Orange\",\n          \"Red\"\n        ],\n        \"semantic_type\": \"\",\n        \"description\": \"\"\n      }\n    },\n    {\n      \"column\": \"index_group_name\",\n      \"properties\": {\n        \"dtype\": \"category\",\n        \"num_unique_values\": 5,\n        \"samples\": [\n          \"Menswear\",\n          \"Divided\",\n          \"Sport\"\n        ],\n        \"semantic_type\": \"\",\n        \"description\": \"\"\n      }\n    },\n    {\n      \"column\": \"garment_group_name\",\n      \"properties\": {\n        \"dtype\": \"category\",\n        \"num_unique_values\": 21,\n        \"samples\": [\n          \"Jersey Basic\",\n          \"Blouses\",\n          \"Skirts\"\n        ],\n        \"semantic_type\": \"\",\n        \"description\": \"\"\n      }\n    },\n    {\n      \"column\": \"detail_desc\",\n      \"properties\": {\n        \"dtype\": \"category\",\n        \"num_unique_values\": 15384,\n        \"samples\": [\n          \"Chinos in washed, stretch cotton twill with a zip fly and button, side pockets and jetted back pockets with a button. Slim Fit \\u2013 a fit that is relaxed over the thighs and tapers from the knees down for a relaxed, well-tailored look.\",\n          \"Fancy dress costume in velour and jersey with embroidery and appliqu\\u00e9s. Lined hood, zip down the front, side pockets, long sleeves with ribbed cuffs and long legs with ribbed hems.\",\n          \"Vest top in soft jersey made from a cotton blend.\"\n        ],\n        \"semantic_type\": \"\",\n        \"description\": \"\"\n      }\n    }\n  ]\n}",
              "type": "dataframe",
              "variable_name": "df_a"
            },
            "text/html": [
              "\n",
              "  <div id=\"df-b1683f3a-ada7-492a-8c94-dbe003f0adb4\" class=\"colab-df-container\">\n",
              "    <div>\n",
              "<style scoped>\n",
              "    .dataframe tbody tr th:only-of-type {\n",
              "        vertical-align: middle;\n",
              "    }\n",
              "\n",
              "    .dataframe tbody tr th {\n",
              "        vertical-align: top;\n",
              "    }\n",
              "\n",
              "    .dataframe thead th {\n",
              "        text-align: right;\n",
              "    }\n",
              "</style>\n",
              "<table border=\"1\" class=\"dataframe\">\n",
              "  <thead>\n",
              "    <tr style=\"text-align: right;\">\n",
              "      <th></th>\n",
              "      <th>article_id</th>\n",
              "      <th>prod_name</th>\n",
              "      <th>product_type_name</th>\n",
              "      <th>product_group_name</th>\n",
              "      <th>colour_group_name</th>\n",
              "      <th>perceived_colour_master_name</th>\n",
              "      <th>index_group_name</th>\n",
              "      <th>garment_group_name</th>\n",
              "      <th>detail_desc</th>\n",
              "    </tr>\n",
              "  </thead>\n",
              "  <tbody>\n",
              "    <tr>\n",
              "      <th>0</th>\n",
              "      <td>108775015</td>\n",
              "      <td>Strap top</td>\n",
              "      <td>Vest top</td>\n",
              "      <td>Garment Upper body</td>\n",
              "      <td>Black</td>\n",
              "      <td>Black</td>\n",
              "      <td>Ladieswear</td>\n",
              "      <td>Jersey Basic</td>\n",
              "      <td>Jersey top with narrow shoulder straps.</td>\n",
              "    </tr>\n",
              "    <tr>\n",
              "      <th>1</th>\n",
              "      <td>108775044</td>\n",
              "      <td>Strap top</td>\n",
              "      <td>Vest top</td>\n",
              "      <td>Garment Upper body</td>\n",
              "      <td>White</td>\n",
              "      <td>White</td>\n",
              "      <td>Ladieswear</td>\n",
              "      <td>Jersey Basic</td>\n",
              "      <td>Jersey top with narrow shoulder straps.</td>\n",
              "    </tr>\n",
              "    <tr>\n",
              "      <th>3</th>\n",
              "      <td>110065001</td>\n",
              "      <td>OP T-shirt (Idro)</td>\n",
              "      <td>Bra</td>\n",
              "      <td>Underwear</td>\n",
              "      <td>Black</td>\n",
              "      <td>Black</td>\n",
              "      <td>Ladieswear</td>\n",
              "      <td>Under-, Nightwear</td>\n",
              "      <td>Microfibre T-shirt bra with underwired, moulde...</td>\n",
              "    </tr>\n",
              "    <tr>\n",
              "      <th>4</th>\n",
              "      <td>110065002</td>\n",
              "      <td>OP T-shirt (Idro)</td>\n",
              "      <td>Bra</td>\n",
              "      <td>Underwear</td>\n",
              "      <td>White</td>\n",
              "      <td>White</td>\n",
              "      <td>Ladieswear</td>\n",
              "      <td>Under-, Nightwear</td>\n",
              "      <td>Microfibre T-shirt bra with underwired, moulde...</td>\n",
              "    </tr>\n",
              "    <tr>\n",
              "      <th>5</th>\n",
              "      <td>110065011</td>\n",
              "      <td>OP T-shirt (Idro)</td>\n",
              "      <td>Bra</td>\n",
              "      <td>Underwear</td>\n",
              "      <td>Light Beige</td>\n",
              "      <td>Beige</td>\n",
              "      <td>Ladieswear</td>\n",
              "      <td>Under-, Nightwear</td>\n",
              "      <td>Microfibre T-shirt bra with underwired, moulde...</td>\n",
              "    </tr>\n",
              "  </tbody>\n",
              "</table>\n",
              "</div>\n",
              "    <div class=\"colab-df-buttons\">\n",
              "\n",
              "  <div class=\"colab-df-container\">\n",
              "    <button class=\"colab-df-convert\" onclick=\"convertToInteractive('df-b1683f3a-ada7-492a-8c94-dbe003f0adb4')\"\n",
              "            title=\"Convert this dataframe to an interactive table.\"\n",
              "            style=\"display:none;\">\n",
              "\n",
              "  <svg xmlns=\"http://www.w3.org/2000/svg\" height=\"24px\" viewBox=\"0 -960 960 960\">\n",
              "    <path d=\"M120-120v-720h720v720H120Zm60-500h600v-160H180v160Zm220 220h160v-160H400v160Zm0 220h160v-160H400v160ZM180-400h160v-160H180v160Zm440 0h160v-160H620v160ZM180-180h160v-160H180v160Zm440 0h160v-160H620v160Z\"/>\n",
              "  </svg>\n",
              "    </button>\n",
              "\n",
              "  <style>\n",
              "    .colab-df-container {\n",
              "      display:flex;\n",
              "      gap: 12px;\n",
              "    }\n",
              "\n",
              "    .colab-df-convert {\n",
              "      background-color: #E8F0FE;\n",
              "      border: none;\n",
              "      border-radius: 50%;\n",
              "      cursor: pointer;\n",
              "      display: none;\n",
              "      fill: #1967D2;\n",
              "      height: 32px;\n",
              "      padding: 0 0 0 0;\n",
              "      width: 32px;\n",
              "    }\n",
              "\n",
              "    .colab-df-convert:hover {\n",
              "      background-color: #E2EBFA;\n",
              "      box-shadow: 0px 1px 2px rgba(60, 64, 67, 0.3), 0px 1px 3px 1px rgba(60, 64, 67, 0.15);\n",
              "      fill: #174EA6;\n",
              "    }\n",
              "\n",
              "    .colab-df-buttons div {\n",
              "      margin-bottom: 4px;\n",
              "    }\n",
              "\n",
              "    [theme=dark] .colab-df-convert {\n",
              "      background-color: #3B4455;\n",
              "      fill: #D2E3FC;\n",
              "    }\n",
              "\n",
              "    [theme=dark] .colab-df-convert:hover {\n",
              "      background-color: #434B5C;\n",
              "      box-shadow: 0px 1px 3px 1px rgba(0, 0, 0, 0.15);\n",
              "      filter: drop-shadow(0px 1px 2px rgba(0, 0, 0, 0.3));\n",
              "      fill: #FFFFFF;\n",
              "    }\n",
              "  </style>\n",
              "\n",
              "    <script>\n",
              "      const buttonEl =\n",
              "        document.querySelector('#df-b1683f3a-ada7-492a-8c94-dbe003f0adb4 button.colab-df-convert');\n",
              "      buttonEl.style.display =\n",
              "        google.colab.kernel.accessAllowed ? 'block' : 'none';\n",
              "\n",
              "      async function convertToInteractive(key) {\n",
              "        const element = document.querySelector('#df-b1683f3a-ada7-492a-8c94-dbe003f0adb4');\n",
              "        const dataTable =\n",
              "          await google.colab.kernel.invokeFunction('convertToInteractive',\n",
              "                                                    [key], {});\n",
              "        if (!dataTable) return;\n",
              "\n",
              "        const docLinkHtml = 'Like what you see? Visit the ' +\n",
              "          '<a target=\"_blank\" href=https://colab.research.google.com/notebooks/data_table.ipynb>data table notebook</a>'\n",
              "          + ' to learn more about interactive tables.';\n",
              "        element.innerHTML = '';\n",
              "        dataTable['output_type'] = 'display_data';\n",
              "        await google.colab.output.renderOutput(dataTable, element);\n",
              "        const docLink = document.createElement('div');\n",
              "        docLink.innerHTML = docLinkHtml;\n",
              "        element.appendChild(docLink);\n",
              "      }\n",
              "    </script>\n",
              "  </div>\n",
              "\n",
              "\n",
              "<div id=\"df-f71b6649-be99-4b3d-850a-666ceca9f6fd\">\n",
              "  <button class=\"colab-df-quickchart\" onclick=\"quickchart('df-f71b6649-be99-4b3d-850a-666ceca9f6fd')\"\n",
              "            title=\"Suggest charts\"\n",
              "            style=\"display:none;\">\n",
              "\n",
              "<svg xmlns=\"http://www.w3.org/2000/svg\" height=\"24px\"viewBox=\"0 0 24 24\"\n",
              "     width=\"24px\">\n",
              "    <g>\n",
              "        <path d=\"M19 3H5c-1.1 0-2 .9-2 2v14c0 1.1.9 2 2 2h14c1.1 0 2-.9 2-2V5c0-1.1-.9-2-2-2zM9 17H7v-7h2v7zm4 0h-2V7h2v10zm4 0h-2v-4h2v4z\"/>\n",
              "    </g>\n",
              "</svg>\n",
              "  </button>\n",
              "\n",
              "<style>\n",
              "  .colab-df-quickchart {\n",
              "      --bg-color: #E8F0FE;\n",
              "      --fill-color: #1967D2;\n",
              "      --hover-bg-color: #E2EBFA;\n",
              "      --hover-fill-color: #174EA6;\n",
              "      --disabled-fill-color: #AAA;\n",
              "      --disabled-bg-color: #DDD;\n",
              "  }\n",
              "\n",
              "  [theme=dark] .colab-df-quickchart {\n",
              "      --bg-color: #3B4455;\n",
              "      --fill-color: #D2E3FC;\n",
              "      --hover-bg-color: #434B5C;\n",
              "      --hover-fill-color: #FFFFFF;\n",
              "      --disabled-bg-color: #3B4455;\n",
              "      --disabled-fill-color: #666;\n",
              "  }\n",
              "\n",
              "  .colab-df-quickchart {\n",
              "    background-color: var(--bg-color);\n",
              "    border: none;\n",
              "    border-radius: 50%;\n",
              "    cursor: pointer;\n",
              "    display: none;\n",
              "    fill: var(--fill-color);\n",
              "    height: 32px;\n",
              "    padding: 0;\n",
              "    width: 32px;\n",
              "  }\n",
              "\n",
              "  .colab-df-quickchart:hover {\n",
              "    background-color: var(--hover-bg-color);\n",
              "    box-shadow: 0 1px 2px rgba(60, 64, 67, 0.3), 0 1px 3px 1px rgba(60, 64, 67, 0.15);\n",
              "    fill: var(--button-hover-fill-color);\n",
              "  }\n",
              "\n",
              "  .colab-df-quickchart-complete:disabled,\n",
              "  .colab-df-quickchart-complete:disabled:hover {\n",
              "    background-color: var(--disabled-bg-color);\n",
              "    fill: var(--disabled-fill-color);\n",
              "    box-shadow: none;\n",
              "  }\n",
              "\n",
              "  .colab-df-spinner {\n",
              "    border: 2px solid var(--fill-color);\n",
              "    border-color: transparent;\n",
              "    border-bottom-color: var(--fill-color);\n",
              "    animation:\n",
              "      spin 1s steps(1) infinite;\n",
              "  }\n",
              "\n",
              "  @keyframes spin {\n",
              "    0% {\n",
              "      border-color: transparent;\n",
              "      border-bottom-color: var(--fill-color);\n",
              "      border-left-color: var(--fill-color);\n",
              "    }\n",
              "    20% {\n",
              "      border-color: transparent;\n",
              "      border-left-color: var(--fill-color);\n",
              "      border-top-color: var(--fill-color);\n",
              "    }\n",
              "    30% {\n",
              "      border-color: transparent;\n",
              "      border-left-color: var(--fill-color);\n",
              "      border-top-color: var(--fill-color);\n",
              "      border-right-color: var(--fill-color);\n",
              "    }\n",
              "    40% {\n",
              "      border-color: transparent;\n",
              "      border-right-color: var(--fill-color);\n",
              "      border-top-color: var(--fill-color);\n",
              "    }\n",
              "    60% {\n",
              "      border-color: transparent;\n",
              "      border-right-color: var(--fill-color);\n",
              "    }\n",
              "    80% {\n",
              "      border-color: transparent;\n",
              "      border-right-color: var(--fill-color);\n",
              "      border-bottom-color: var(--fill-color);\n",
              "    }\n",
              "    90% {\n",
              "      border-color: transparent;\n",
              "      border-bottom-color: var(--fill-color);\n",
              "    }\n",
              "  }\n",
              "</style>\n",
              "\n",
              "  <script>\n",
              "    async function quickchart(key) {\n",
              "      const quickchartButtonEl =\n",
              "        document.querySelector('#' + key + ' button');\n",
              "      quickchartButtonEl.disabled = true;  // To prevent multiple clicks.\n",
              "      quickchartButtonEl.classList.add('colab-df-spinner');\n",
              "      try {\n",
              "        const charts = await google.colab.kernel.invokeFunction(\n",
              "            'suggestCharts', [key], {});\n",
              "      } catch (error) {\n",
              "        console.error('Error during call to suggestCharts:', error);\n",
              "      }\n",
              "      quickchartButtonEl.classList.remove('colab-df-spinner');\n",
              "      quickchartButtonEl.classList.add('colab-df-quickchart-complete');\n",
              "    }\n",
              "    (() => {\n",
              "      let quickchartButtonEl =\n",
              "        document.querySelector('#df-f71b6649-be99-4b3d-850a-666ceca9f6fd button');\n",
              "      quickchartButtonEl.style.display =\n",
              "        google.colab.kernel.accessAllowed ? 'block' : 'none';\n",
              "    })();\n",
              "  </script>\n",
              "</div>\n",
              "\n",
              "    </div>\n",
              "  </div>\n"
            ],
            "text/plain": [
              "   article_id          prod_name product_type_name  product_group_name  \\\n",
              "0   108775015          Strap top          Vest top  Garment Upper body   \n",
              "1   108775044          Strap top          Vest top  Garment Upper body   \n",
              "3   110065001  OP T-shirt (Idro)               Bra           Underwear   \n",
              "4   110065002  OP T-shirt (Idro)               Bra           Underwear   \n",
              "5   110065011  OP T-shirt (Idro)               Bra           Underwear   \n",
              "\n",
              "  colour_group_name perceived_colour_master_name index_group_name  \\\n",
              "0             Black                        Black       Ladieswear   \n",
              "1             White                        White       Ladieswear   \n",
              "3             Black                        Black       Ladieswear   \n",
              "4             White                        White       Ladieswear   \n",
              "5       Light Beige                        Beige       Ladieswear   \n",
              "\n",
              "  garment_group_name                                        detail_desc  \n",
              "0       Jersey Basic            Jersey top with narrow shoulder straps.  \n",
              "1       Jersey Basic            Jersey top with narrow shoulder straps.  \n",
              "3  Under-, Nightwear  Microfibre T-shirt bra with underwired, moulde...  \n",
              "4  Under-, Nightwear  Microfibre T-shirt bra with underwired, moulde...  \n",
              "5  Under-, Nightwear  Microfibre T-shirt bra with underwired, moulde...  "
            ]
          },
          "execution_count": 8,
          "metadata": {},
          "output_type": "execute_result"
        }
      ],
      "source": [
        "df_a.head()"
      ]
    },
    {
      "cell_type": "markdown",
      "metadata": {
        "id": "h554wJnJNns9"
      },
      "source": [
        "# Feature Engineering"
      ]
    },
    {
      "cell_type": "markdown",
      "metadata": {
        "id": "x4cyVgDIRx1l"
      },
      "source": [
        "Feature engineering involves creating new features from existing data to gain new insights and in some cases improve the explainability of machine learning models. You will be guided in the following sections to create new customer-based features and item-based features.\n",
        "\n",
        "**Customer Based Features**\n",
        "\n",
        "The Customer-based features that you will be creating will be used for an unsupervised Machine Learning method - Clustering Analysis. This will allow us to split the large consumer base into small customer segments with similar habits and behaviours, allowing us to generate a variety of personalised recommendation strategies for each consumer group.\n",
        "\n",
        "**Item Based Features**\n",
        "\n",
        "The current item descriptions are in plain text format, which lacks the semantic structure needed for generating accurate item recommendations. Therefore, it's necessary to convert these descriptions into vectors to enable effective similarity searches between items."
      ]
    },
    {
      "cell_type": "markdown",
      "metadata": {
        "id": "wLb3Pj7NOucC"
      },
      "source": [
        "# Customer Based Features"
      ]
    },
    {
      "cell_type": "markdown",
      "metadata": {
        "id": "Zik8TgsQrmzk"
      },
      "source": [
        "#### Feature Creation\n",
        "Using the transactions dataset, create a new feature to represent the average time difference between each purchase made by the customer. When generating this feature, create a new customer dataframe which will store all the customer information that will be generated.\n",
        "\n",
        "Step 1: Sort df_t by `customer_id`, followed by `t_dat`. Set `inplace = True`, to ensure that the df_t follows this natural ordering. This is important for the later sections.\n",
        "\n",
        "Step 2: Find the average time difference across all transactions by each customer.\n",
        "\n",
        "Step 3: As you perform Step 2, it will create a new dataframe consisting customer_ids as the index. Label this new dataframe as `df_c`. \n",
        "\n",
        "Step 4: Store this new average time difference feature as a new `time_diff` column in `df_c`."
      ]
    },
    {
      "cell_type": "code",
      "execution_count": 9,
      "metadata": {
        "colab": {
          "base_uri": "https://localhost:8080/"
        },
        "id": "PgEr9LWlOECF",
        "outputId": "2c22c791-ae5c-4f30-989e-968aa7703098"
      },
      "outputs": [
        {
          "name": "stdout",
          "output_type": "stream",
          "text": [
            "                                                    time_diff\n",
            "customer_id                                                  \n",
            "00000dbacae5abe5e23885899a1fa44253a17956c6d1c3d...   0.000000\n",
            "00006413d8573cd20ed7128e53b7b13819fe5cfc2d801fe...   8.000000\n",
            "000064249685c11552da43ef22a5030f35a147f723d5b02...   0.000000\n",
            "00009d946eec3ea54add5ba56d5210ea898def4b46c6857...   3.600000\n",
            "0000c97821eb48d0e590fd309133f0a6c08f7750f64cccf...   0.000000\n",
            "...                                                       ...\n",
            "ffff4c4e8b57b633c1ddf8fbd53db16b962cf831baf9ed6...   1.600000\n",
            "ffff61677073258d461e043cc9ed4ed97be5617a920640f...        NaN\n",
            "ffff7d65748db4d52e48b74c8f83ccb0029fc3bbafa511b...  10.000000\n",
            "ffffcd5046a6143d29a04fb8c424ce494a76e5cdf4fab53...   0.000000\n",
            "ffffcf35913a0bee60e8741cb2b4e78b8a98ee5ff2e6a17...   2.666667\n",
            "\n",
            "[264401 rows x 1 columns]\n"
          ]
        }
      ],
      "source": [
        "# step 1\n",
        "df_t.sort_values(by=['customer_id', 't_dat'], inplace=True)\n",
        "\n",
        "# step 2\n",
        "df_t['time_diff'] = df_t.groupby('customer_id')['t_dat'].diff().dt.days\n",
        "\n",
        "# step 3\n",
        "df_c = df_t.groupby('customer_id').agg({'time_diff': 'mean'})\n",
        "\n",
        "# step 4\n",
        "df_c['time_diff'] = df_c['time_diff']\n",
        "\n",
        "print(df_c)"
      ]
    },
    {
      "cell_type": "markdown",
      "metadata": {
        "id": "DKP_AKE1W7s0"
      },
      "source": [
        "#### Missing values in `time_diff`"
      ]
    },
    {
      "cell_type": "markdown",
      "metadata": {
        "id": "IiWVk_NsUIAO"
      },
      "source": [
        "In this `time_diff` feature, we make 2 observations.\n",
        "\n",
        "Observation 1. There are customers with 0 days 00:00:00 average time difference. These customers made multiple purchases on their first purchase and do not have any future purchases. It is not true to represent them as \"frequent\" buyers with 0 average time difference between their purchases.\n",
        "\n",
        "Observation 2. There are NaN / NaT values within the column. This is because we cannot find the time difference for customers who have only made 1 item purchase in the dataset.\n",
        "\n",
        "For the customers that fall in Observation 1, set their `time_diff` as np.nan. We will revisit this feature and handle its NaN values with mean imputation later on in Task 3. (0.2 marks)\n",
        "\n",
        "For the customers that fall in Observation 2, leave them be for now, we do not need to handle the NaN values here."
      ]
    },
    {
      "cell_type": "code",
      "execution_count": 10,
      "metadata": {
        "colab": {
          "base_uri": "https://localhost:8080/"
        },
        "id": "g8Qkr-qervSK",
        "outputId": "634374d3-bb45-419b-aede-ae2fa728247b"
      },
      "outputs": [
        {
          "name": "stdout",
          "output_type": "stream",
          "text": [
            "<class 'pandas.core.frame.DataFrame'>\n",
            "Index: 264401 entries, 00000dbacae5abe5e23885899a1fa44253a17956c6d1c3d25f88aa139fdfc657 to ffffcf35913a0bee60e8741cb2b4e78b8a98ee5ff2e6a1778d0116cffd259264\n",
            "Data columns (total 1 columns):\n",
            " #   Column     Non-Null Count  Dtype  \n",
            "---  ------     --------------  -----  \n",
            " 0   time_diff  80074 non-null  float64\n",
            "dtypes: float64(1)\n",
            "memory usage: 4.0+ MB\n",
            "None\n"
          ]
        }
      ],
      "source": [
        "df_c.loc[df_c['time_diff'] == 0, 'time_diff'] = np.nan\n",
        "print(df_c.info())"
      ]
    },
    {
      "cell_type": "markdown",
      "metadata": {
        "id": "GLVvm3UJXCCx"
      },
      "source": [
        "#### Task 1.1.3 Feature Analysis (0.2 marks)"
      ]
    },
    {
      "cell_type": "markdown",
      "metadata": {
        "id": "kIaj2cRWUASW"
      },
      "source": [
        "In no more than 2 sentences, explain what insights could be gained from this feature in the business standpoint. You could also explain it in terms of how it would shape the recommendation strategies later on."
      ]
    },
    {
      "cell_type": "markdown",
      "metadata": {
        "colab": {
          "base_uri": "https://localhost:8080/",
          "height": 0
        },
        "id": "QqFNFnPjUHT7",
        "outputId": "2477bf3a-ffd9-478a-ca69-fa8b3b13c7b3"
      },
      "source": [
        "This feature can provide insights into customer purchasing habits.\n",
        "For example, customers with shorter average time differences might be loyal or regular buyers.\n",
        "Identifying such customers can help with personalized recommendation strategies or loyalty rewards."
      ]
    },
    {
      "cell_type": "markdown",
      "metadata": {
        "id": "0UgW5ViaNrkX"
      },
      "source": [
        "### Task 1.2 Average spending (0.3 marks)"
      ]
    },
    {
      "cell_type": "markdown",
      "metadata": {
        "id": "hyKP8F28UbJN"
      },
      "source": [
        "#### Task 1.2.1 Feature Creation (0.1 marks)\n",
        "Now, create a new feature to represent the average spending made by each customer. Label this feature as `average_spending` and likewise store it into the new `df_c` dataframe you have created in Task 1.1. Print out df_c when you are done. (0.1 marks)"
      ]
    },
    {
      "cell_type": "code",
      "execution_count": 12,
      "metadata": {
        "colab": {
          "base_uri": "https://localhost:8080/"
        },
        "id": "kzVeEKwSNrGe",
        "outputId": "54aa10c5-597e-4eff-85a7-ef8a1340a8a8"
      },
      "outputs": [
        {
          "name": "stdout",
          "output_type": "stream",
          "text": [
            "                                                    time_diff  \\\n",
            "customer_id                                                     \n",
            "00000dbacae5abe5e23885899a1fa44253a17956c6d1c3d...        NaN   \n",
            "00006413d8573cd20ed7128e53b7b13819fe5cfc2d801fe...   8.000000   \n",
            "000064249685c11552da43ef22a5030f35a147f723d5b02...        NaN   \n",
            "00009d946eec3ea54add5ba56d5210ea898def4b46c6857...   3.600000   \n",
            "0000c97821eb48d0e590fd309133f0a6c08f7750f64cccf...        NaN   \n",
            "...                                                       ...   \n",
            "ffff4c4e8b57b633c1ddf8fbd53db16b962cf831baf9ed6...   1.600000   \n",
            "ffff61677073258d461e043cc9ed4ed97be5617a920640f...        NaN   \n",
            "ffff7d65748db4d52e48b74c8f83ccb0029fc3bbafa511b...  10.000000   \n",
            "ffffcd5046a6143d29a04fb8c424ce494a76e5cdf4fab53...        NaN   \n",
            "ffffcf35913a0bee60e8741cb2b4e78b8a98ee5ff2e6a17...   2.666667   \n",
            "\n",
            "                                                    average_spending  \n",
            "customer_id                                                           \n",
            "00000dbacae5abe5e23885899a1fa44253a17956c6d1c3d...          0.054220  \n",
            "00006413d8573cd20ed7128e53b7b13819fe5cfc2d801fe...          0.051890  \n",
            "000064249685c11552da43ef22a5030f35a147f723d5b02...          0.033881  \n",
            "00009d946eec3ea54add5ba56d5210ea898def4b46c6857...          0.050831  \n",
            "0000c97821eb48d0e590fd309133f0a6c08f7750f64cccf...          0.019051  \n",
            "...                                                              ...  \n",
            "ffff4c4e8b57b633c1ddf8fbd53db16b962cf831baf9ed6...          0.019192  \n",
            "ffff61677073258d461e043cc9ed4ed97be5617a920640f...          0.025407  \n",
            "ffff7d65748db4d52e48b74c8f83ccb0029fc3bbafa511b...          0.033034  \n",
            "ffffcd5046a6143d29a04fb8c424ce494a76e5cdf4fab53...          0.016932  \n",
            "ffffcf35913a0bee60e8741cb2b4e78b8a98ee5ff2e6a17...          0.021678  \n",
            "\n",
            "[264401 rows x 2 columns]\n"
          ]
        }
      ],
      "source": [
        "df_c['average_spending'] = df_t.groupby('customer_id')['price'].mean()\n",
        "print(df_c)"
      ]
    },
    {
      "cell_type": "markdown",
      "metadata": {},
      "source": [
        "Average spending helps identify high-value customers who spend more on average. This can shape marketing strategies such as targeted promotions or recommendations for premium products.\n"
      ]
    },
    {
      "cell_type": "markdown",
      "metadata": {
        "id": "pWQKmreyO01Z"
      },
      "source": [
        "# Item-Based Features"
      ]
    },
    {
      "cell_type": "markdown",
      "metadata": {
        "id": "PCM6ONfTl0wB"
      },
      "source": [
        "### Measuring Item Popularity"
      ]
    },
    {
      "cell_type": "markdown",
      "metadata": {
        "id": "FUdsw4CD0zTt"
      },
      "source": [
        "For each item in `df_a`, count the number of times each item has been purchased throughout the 1 month of transactions in `df_t` across all customers.\n",
        "Create a new column `freq_purchased`, within `df_a`, to store this information. Display `df_a` when you are done."
      ]
    },
    {
      "cell_type": "code",
      "execution_count": 14,
      "metadata": {
        "colab": {
          "base_uri": "https://localhost:8080/"
        },
        "id": "rtTTaRW9O-f4",
        "outputId": "86b58266-2aa0-4a23-9c29-d67675d51711"
      },
      "outputs": [
        {
          "name": "stdout",
          "output_type": "stream",
          "text": [
            "       article_id                       prod_name product_type_name  \\\n",
            "0       108775015                       Strap top          Vest top   \n",
            "1       108775044                       Strap top          Vest top   \n",
            "2       110065001               OP T-shirt (Idro)               Bra   \n",
            "3       110065002               OP T-shirt (Idro)               Bra   \n",
            "4       110065011               OP T-shirt (Idro)               Bra   \n",
            "...           ...                             ...               ...   \n",
            "31037   848834001  TC NEW LAUNDRY MESHBAG 2- PACK        Side table   \n",
            "31038   848974001                   Mop aliceband   Hair/alice band   \n",
            "31039   851856001                   Shirley dress             Dress   \n",
            "31040   851860001              Dubai blazer dress             Dress   \n",
            "31041   856173001               Lolly ss fast buy           T-shirt   \n",
            "\n",
            "       product_group_name colour_group_name perceived_colour_master_name  \\\n",
            "0      Garment Upper body             Black                        Black   \n",
            "1      Garment Upper body             White                        White   \n",
            "2               Underwear             Black                        Black   \n",
            "3               Underwear             White                        White   \n",
            "4               Underwear       Light Beige                        Beige   \n",
            "...                   ...               ...                          ...   \n",
            "31037           Furniture             White                        White   \n",
            "31038         Accessories         Off White                        White   \n",
            "31039   Garment Full body             Black                        Black   \n",
            "31040   Garment Full body             Black                        Black   \n",
            "31041  Garment Upper body             Black                        Black   \n",
            "\n",
            "      index_group_name garment_group_name  \\\n",
            "0           Ladieswear       Jersey Basic   \n",
            "1           Ladieswear       Jersey Basic   \n",
            "2           Ladieswear  Under-, Nightwear   \n",
            "3           Ladieswear  Under-, Nightwear   \n",
            "4           Ladieswear  Under-, Nightwear   \n",
            "...                ...                ...   \n",
            "31037       Ladieswear            Unknown   \n",
            "31038       Ladieswear        Accessories   \n",
            "31039          Divided     Dresses Ladies   \n",
            "31040          Divided     Dresses Ladies   \n",
            "31041          Divided       Jersey Fancy   \n",
            "\n",
            "                                             detail_desc  freq_purchased  \n",
            "0                Jersey top with narrow shoulder straps.              13  \n",
            "1                Jersey top with narrow shoulder straps.              19  \n",
            "2      Microfibre T-shirt bra with underwired, moulde...              29  \n",
            "3      Microfibre T-shirt bra with underwired, moulde...               9  \n",
            "4      Microfibre T-shirt bra with underwired, moulde...              16  \n",
            "...                                                  ...             ...  \n",
            "31037  Use these protective laundry bags when you was...               7  \n",
            "31038        Thin Alice band in metal with pearly beads.               5  \n",
            "31039  Short dress in satin with a sheen. Draped neck...               9  \n",
            "31040  Short, fitted jacket dress in sequined jersey ...              13  \n",
            "31041  Top in patterned mesh. Short puff sleeves with...              16  \n",
            "\n",
            "[31042 rows x 10 columns]\n"
          ]
        }
      ],
      "source": [
        "item_popularity = df_t['article_id'].value_counts().reset_index()\n",
        "item_popularity.columns = ['article_id', 'freq_purchased']\n",
        "\n",
        "df_a = df_a.merge(item_popularity, on='article_id', how='left')\n",
        "print(df_a)"
      ]
    },
    {
      "cell_type": "markdown",
      "metadata": {
        "id": "dWV3V1aP16Uu"
      },
      "source": [
        "### Feature Analysis"
      ]
    },
    {
      "cell_type": "markdown",
      "metadata": {
        "colab": {
          "base_uri": "https://localhost:8080/",
          "height": 0
        },
        "id": "A8ch_hRS3LN8",
        "outputId": "dc207da5-1107-47c2-86e3-2d520704e1a9"
      },
      "source": [
        "The popularity of items provides insight into trending products and customer preferences, which can help in stock management and personalized product recommendations."
      ]
    },
    {
      "cell_type": "markdown",
      "metadata": {
        "id": "SO2HfQT1Ndwb"
      },
      "source": [
        "## Creating Item Embeddings"
      ]
    },
    {
      "cell_type": "markdown",
      "metadata": {
        "id": "4Q38lY5DLf9_"
      },
      "source": [
        "In order to generate item similarity recommendations, we will need to convert textual descriptions of each item into a vectorised format. This will allow us to use the item vectors to perform vector similarity searches and query for the most similar fashion products with respect to a reference product. Before we do that, we will need to make some adjustments to the `detail_desc` column in df_a."
      ]
    },
    {
      "cell_type": "markdown",
      "metadata": {
        "id": "E1FNQ5EsbHYj"
      },
      "source": [
        "### Missing `detail_desc`"
      ]
    },
    {
      "cell_type": "markdown",
      "metadata": {
        "id": "GCZ1MmRNL4Ec"
      },
      "source": [
        "We find that there are items where `detail_desc` is NaN (missing). As we still want to retain these items for similarity searches, we cannot leave them as blank fields. For these items, we will be constructing a basic `detail_desc` using existing features about the product. The columns used are ['product_type_name', 'colour_group_name', 'index_group_name', 'garment_group_name'].\n",
        "\n",
        "For the items where `detail_desc` is NaN,\n",
        "\n",
        "1. Append each of the stated column's information together.\n",
        "2. If any of the sub-columns (e.g. 'product_type_name') are NaN, use the fillna() function to fill it with a blank string ('') to prevent errors during concatenation.\n",
        "3. Print df_a.info() to see if there are still null values."
      ]
    },
    {
      "cell_type": "code",
      "execution_count": 16,
      "metadata": {
        "colab": {
          "base_uri": "https://localhost:8080/"
        },
        "id": "e2YNwwt42WP1",
        "outputId": "9fbde663-6637-495b-87b0-dd81ddcdaa74"
      },
      "outputs": [
        {
          "name": "stdout",
          "output_type": "stream",
          "text": [
            "<class 'pandas.core.frame.DataFrame'>\n",
            "RangeIndex: 31042 entries, 0 to 31041\n",
            "Data columns (total 11 columns):\n",
            " #   Column                        Non-Null Count  Dtype \n",
            "---  ------                        --------------  ----- \n",
            " 0   article_id                    31042 non-null  int64 \n",
            " 1   prod_name                     31042 non-null  object\n",
            " 2   product_type_name             31042 non-null  object\n",
            " 3   product_group_name            31042 non-null  object\n",
            " 4   colour_group_name             31042 non-null  object\n",
            " 5   perceived_colour_master_name  31042 non-null  object\n",
            " 6   index_group_name              31042 non-null  object\n",
            " 7   garment_group_name            31042 non-null  object\n",
            " 8   detail_desc                   31042 non-null  object\n",
            " 9   freq_purchased                31042 non-null  int64 \n",
            " 10  combined_desc                 31042 non-null  object\n",
            "dtypes: int64(2), object(9)\n",
            "memory usage: 2.6+ MB\n",
            "None\n"
          ]
        }
      ],
      "source": [
        "desc_cols = ['product_type_name', 'colour_group_name', 'index_group_name', 'garment_group_name']\n",
        "\n",
        "\n",
        "df_a['detail_desc'].fillna('', inplace=True)\n",
        "df_a['combined_desc'] = df_a[desc_cols].fillna('').agg(' '.join, axis=1)\n",
        "df_a['detail_desc'] = df_a['detail_desc'].replace('', np.nan).fillna(df_a['combined_desc'])\n",
        "\n",
        "print(df_a.info())"
      ]
    },
    {
      "cell_type": "markdown",
      "metadata": {
        "id": "Z38S-TP3DnTZ"
      },
      "source": [
        "### TFIDF Vectoriser to generate item embeddings"
      ]
    },
    {
      "cell_type": "markdown",
      "metadata": {
        "id": "L8uAjzb6E1wi"
      },
      "source": [
        "Now that we have all the detailed description filled up, let us create item embeddings by fitting the detail descriptions into the TF-IDF Vectoriser model. Store the embeddings as a result of the TFIDF-Vectoriser as `tfidf_scores`."
      ]
    },
    {
      "cell_type": "code",
      "execution_count": 17,
      "metadata": {
        "colab": {
          "base_uri": "https://localhost:8080/"
        },
        "id": "LsCjoTDoDpCB",
        "outputId": "889a6e19-3762-4051-9a40-e090ab59d8c1"
      },
      "outputs": [
        {
          "name": "stdout",
          "output_type": "stream",
          "text": [
            "  (0, 1999)\t0.5053837996756433\n",
            "  (0, 1866)\t0.47411251726440523\n",
            "  (0, 1481)\t0.48203533974479107\n",
            "  (0, 2321)\t0.15966585265609717\n",
            "  (0, 2144)\t0.357163917515767\n",
            "  (0, 1280)\t0.3665886233315679\n",
            "  (1, 1999)\t0.5053837996756433\n",
            "  (1, 1866)\t0.47411251726440523\n",
            "  (1, 1481)\t0.48203533974479107\n",
            "  (1, 2321)\t0.15966585265609717\n",
            "  (1, 2144)\t0.357163917515767\n",
            "  (1, 1280)\t0.3665886233315679\n",
            "  (2, 744)\t0.24880347707569694\n",
            "  (2, 1140)\t0.36981519319221606\n",
            "  (2, 1066)\t0.14850830770243334\n",
            "  (2, 1809)\t0.16143506497924534\n",
            "  (2, 2251)\t0.221829318889244\n",
            "  (2, 2322)\t0.2174354498594296\n",
            "  (2, 495)\t0.07914518762074987\n",
            "  (2, 487)\t0.06182161810042317\n",
            "  (2, 985)\t0.15200274403151381\n",
            "  (2, 967)\t0.15720035110296415\n",
            "  (2, 1226)\t0.14483332164479212\n",
            "  (2, 430)\t0.11888266401523205\n",
            "  (2, 2034)\t0.18653972795907453\n",
            "  :\t:\n",
            "  (31040, 1586)\t0.4572412872172852\n",
            "  (31040, 1324)\t0.3128696169905511\n",
            "  (31040, 1017)\t0.2424534195026051\n",
            "  (31040, 890)\t0.20800818416430766\n",
            "  (31040, 2216)\t0.2375541384972963\n",
            "  (31040, 2331)\t0.27121498097381136\n",
            "  (31040, 1274)\t0.25348616701040655\n",
            "  (31040, 1089)\t0.1381088157074595\n",
            "  (31040, 1862)\t0.17238497162678587\n",
            "  (31040, 753)\t0.2082117832650003\n",
            "  (31040, 1238)\t0.07143703672729229\n",
            "  (31040, 985)\t0.2575505242650601\n",
            "  (31040, 455)\t0.07398972513271866\n",
            "  (31040, 2321)\t0.13399149980240171\n",
            "  (31040, 1280)\t0.15382049020992955\n",
            "  (31041, 1924)\t0.48811101544149793\n",
            "  (31041, 1684)\t0.4723657254236335\n",
            "  (31041, 1900)\t0.18326899131926302\n",
            "  (31041, 2172)\t0.41383271779782926\n",
            "  (31041, 1583)\t0.3192487890404305\n",
            "  (31041, 1862)\t0.2200786493566945\n",
            "  (31041, 1432)\t0.36218587369131555\n",
            "  (31041, 1238)\t0.09120149168817773\n",
            "  (31041, 2321)\t0.08553143590043757\n",
            "  (31041, 2144)\t0.19132921791829627\n"
          ]
        }
      ],
      "source": [
        "vectorizer = TfidfVectorizer()\n",
        "tfidf_scores = vectorizer.fit_transform(df_a['detail_desc'])\n",
        "print(tfidf_scores)\n",
        "\n",
        "### Row: The first dimension represents each document row in the df_a dataset.\n",
        "### Column: The second dimension represents the number of unique terms across all descriptions."
      ]
    },
    {
      "cell_type": "markdown",
      "metadata": {
        "id": "u0Ydp-k-cfaL"
      },
      "source": [
        "# Handling missing values"
      ]
    },
    {
      "cell_type": "markdown",
      "metadata": {
        "id": "1o_oRjk0YaCU"
      },
      "source": [
        "Based on the 2 observations found earlier in Task 1.1.1, we will now address the NaN values found in `time_diff`. For these customers, let us assume that their `time_diff` will be the mean across all other customers who do not have NaN values. In other words, perform a Mean Imputation to fill in `time_diff` values for these customers.\n",
        "\n",
        "Step 1. Convert `time_diff` into hours format. Label this new column as `time_diff_hours`. (0.1 marks)\n",
        "\n",
        "Step 2. Find the average `time_diff_hours` across ALL customers who do not fall in any of the 2 observations stated above (Task 1.1.1). (0.1 marks)\n",
        "\n",
        "Step 3: Print the value found in Step 1. (0.1 marks)\n",
        "\n",
        "Step 4. For the customers that fall in the 2 observations stated above, fill in the `time_diff_hours` column with the mean value you have found in step 1. (0.1 marks)\n",
        "\n",
        "Step 5: print df_c.info() to see if there are still NaN values in the `time_diff_hours` column. (0.1 marks)"
      ]
    },
    {
      "cell_type": "code",
      "execution_count": 18,
      "metadata": {
        "colab": {
          "base_uri": "https://localhost:8080/"
        },
        "id": "xXcLgt3dmXEJ",
        "outputId": "a2e9241a-91d3-4170-d459-0265f0f40dfd"
      },
      "outputs": [
        {
          "name": "stdout",
          "output_type": "stream",
          "text": [
            "average time difference: 69.9280947752265\n",
            "<class 'pandas.core.frame.DataFrame'>\n",
            "Index: 264401 entries, 00000dbacae5abe5e23885899a1fa44253a17956c6d1c3d25f88aa139fdfc657 to ffffcf35913a0bee60e8741cb2b4e78b8a98ee5ff2e6a1778d0116cffd259264\n",
            "Data columns (total 3 columns):\n",
            " #   Column            Non-Null Count   Dtype  \n",
            "---  ------            --------------   -----  \n",
            " 0   time_diff         80074 non-null   float64\n",
            " 1   average_spending  264401 non-null  float64\n",
            " 2   time_diff_hours   264401 non-null  float64\n",
            "dtypes: float64(3)\n",
            "memory usage: 8.1+ MB\n",
            "None\n"
          ]
        }
      ],
      "source": [
        "#step 1\n",
        "df_c['time_diff_hours'] = df_c['time_diff'] * 24\n",
        "\n",
        "#step 2\n",
        "mean_time_diff_hours = df_c['time_diff_hours'].mean(skipna=True)\n",
        "\n",
        "#step 3\n",
        "print(f\"average time difference: {mean_time_diff_hours}\")\n",
        "\n",
        "#step 4\n",
        "df_c['time_diff_hours'].fillna(mean_time_diff_hours, inplace=True)\n",
        "\n",
        "#step 5\n",
        "print(df_c.info())\n"
      ]
    },
    {
      "cell_type": "markdown",
      "metadata": {
        "id": "XtVYFHCKCchh"
      },
      "source": [
        "# Customer Segmentation Analysis"
      ]
    },
    {
      "cell_type": "markdown",
      "metadata": {
        "id": "eFRg8YcvW76T"
      },
      "source": [
        "Customer segmentation analysis using clustering techniques is crucial for enhancing the accuracy and relevance of the recommendations provided to users. By grouping users into distinct clusters based on their behaviors, businesses can analyse and target each segment with a valid recommendation strategy that cater to the specific behaviours of each customer."
      ]
    },
    {
      "cell_type": "code",
      "execution_count": 19,
      "metadata": {
        "colab": {
          "base_uri": "https://localhost:8080/",
          "height": 467
        },
        "id": "Lvur7kbzBgWt",
        "outputId": "26a307c5-21ab-42b6-adba-c719507e5205"
      },
      "outputs": [
        {
          "data": {
            "text/plain": [
              "<Axes: xlabel='average_spending', ylabel='time_diff_hours'>"
            ]
          },
          "execution_count": 19,
          "metadata": {},
          "output_type": "execute_result"
        },
        {
          "data": {
            "image/png": "[encoded data removed]",
            "text/plain": [
              "<Figure size 640x480 with 1 Axes>"
            ]
          },
          "metadata": {},
          "output_type": "display_data"
        }
      ],
      "source": [
        "cluster_features = df_c[['average_spending', 'time_diff_hours']]\n",
        "\n",
        "# Create scatter plot on `time_diff_hours` against `average_spending` for visualisation\n",
        "cluster_features.plot(kind='scatter', x='average_spending', y='time_diff_hours', s=32, alpha=.8)"
      ]
    },
    {
      "cell_type": "code",
      "execution_count": 20,
      "metadata": {
        "id": "TIxyGfmqm4pa"
      },
      "outputs": [],
      "source": [
        "# Initialise a standard scaler. As clustering relies on distance between each datapoint, we will need to ensure that\n",
        "# all features are on the same scale. We use a standard scaler in this case.\n",
        "scaler = StandardScaler()\n",
        "\n",
        "# Fit and transform the numerical data\n",
        "scaled_data = scaler.fit_transform(cluster_features[['average_spending', 'time_diff_hours']])\n",
        "\n",
        "# Store the scaled data features into a dataframe\n",
        "scaled_cluster_features = pd.DataFrame(scaled_data, columns=['average_spending', 'time_diff_hours'])"
      ]
    },
    {
      "cell_type": "code",
      "execution_count": 21,
      "metadata": {
        "colab": {
          "base_uri": "https://localhost:8080/"
        },
        "id": "nxjiSwetCefR",
        "outputId": "9bd6d03f-1b02-428b-a35b-5705d97409f8"
      },
      "outputs": [
        {
          "name": "stderr",
          "output_type": "stream",
          "text": [
            "/usr/local/lib/python3.10/dist-packages/sklearn/cluster/_kmeans.py:1416: FutureWarning: The default value of `n_init` will change from 10 to 'auto' in 1.4. Set the value of `n_init` explicitly to suppress the warning\n",
            "  super()._check_params_vs_input(X, default_n_init=10)\n"
          ]
        },
        {
          "name": "stdout",
          "output_type": "stream",
          "text": [
            "Cluster initiation: 1\n"
          ]
        },
        {
          "name": "stderr",
          "output_type": "stream",
          "text": [
            "/usr/local/lib/python3.10/dist-packages/sklearn/cluster/_kmeans.py:1416: FutureWarning: The default value of `n_init` will change from 10 to 'auto' in 1.4. Set the value of `n_init` explicitly to suppress the warning\n",
            "  super()._check_params_vs_input(X, default_n_init=10)\n"
          ]
        },
        {
          "name": "stdout",
          "output_type": "stream",
          "text": [
            "Cluster initiation: 2\n"
          ]
        },
        {
          "name": "stderr",
          "output_type": "stream",
          "text": [
            "/usr/local/lib/python3.10/dist-packages/sklearn/cluster/_kmeans.py:1416: FutureWarning: The default value of `n_init` will change from 10 to 'auto' in 1.4. Set the value of `n_init` explicitly to suppress the warning\n",
            "  super()._check_params_vs_input(X, default_n_init=10)\n"
          ]
        },
        {
          "name": "stdout",
          "output_type": "stream",
          "text": [
            "Cluster initiation: 3\n"
          ]
        },
        {
          "name": "stderr",
          "output_type": "stream",
          "text": [
            "/usr/local/lib/python3.10/dist-packages/sklearn/cluster/_kmeans.py:1416: FutureWarning: The default value of `n_init` will change from 10 to 'auto' in 1.4. Set the value of `n_init` explicitly to suppress the warning\n",
            "  super()._check_params_vs_input(X, default_n_init=10)\n"
          ]
        },
        {
          "name": "stdout",
          "output_type": "stream",
          "text": [
            "Cluster initiation: 4\n"
          ]
        },
        {
          "name": "stderr",
          "output_type": "stream",
          "text": [
            "/usr/local/lib/python3.10/dist-packages/sklearn/cluster/_kmeans.py:1416: FutureWarning: The default value of `n_init` will change from 10 to 'auto' in 1.4. Set the value of `n_init` explicitly to suppress the warning\n",
            "  super()._check_params_vs_input(X, default_n_init=10)\n"
          ]
        },
        {
          "name": "stdout",
          "output_type": "stream",
          "text": [
            "Cluster initiation: 5\n"
          ]
        },
        {
          "name": "stderr",
          "output_type": "stream",
          "text": [
            "/usr/local/lib/python3.10/dist-packages/sklearn/cluster/_kmeans.py:1416: FutureWarning: The default value of `n_init` will change from 10 to 'auto' in 1.4. Set the value of `n_init` explicitly to suppress the warning\n",
            "  super()._check_params_vs_input(X, default_n_init=10)\n"
          ]
        },
        {
          "name": "stdout",
          "output_type": "stream",
          "text": [
            "Cluster initiation: 6\n"
          ]
        },
        {
          "name": "stderr",
          "output_type": "stream",
          "text": [
            "/usr/local/lib/python3.10/dist-packages/sklearn/cluster/_kmeans.py:1416: FutureWarning: The default value of `n_init` will change from 10 to 'auto' in 1.4. Set the value of `n_init` explicitly to suppress the warning\n",
            "  super()._check_params_vs_input(X, default_n_init=10)\n"
          ]
        },
        {
          "name": "stdout",
          "output_type": "stream",
          "text": [
            "Cluster initiation: 7\n"
          ]
        },
        {
          "name": "stderr",
          "output_type": "stream",
          "text": [
            "/usr/local/lib/python3.10/dist-packages/sklearn/cluster/_kmeans.py:1416: FutureWarning: The default value of `n_init` will change from 10 to 'auto' in 1.4. Set the value of `n_init` explicitly to suppress the warning\n",
            "  super()._check_params_vs_input(X, default_n_init=10)\n"
          ]
        },
        {
          "name": "stdout",
          "output_type": "stream",
          "text": [
            "Cluster initiation: 8\n"
          ]
        },
        {
          "name": "stderr",
          "output_type": "stream",
          "text": [
            "/usr/local/lib/python3.10/dist-packages/sklearn/cluster/_kmeans.py:1416: FutureWarning: The default value of `n_init` will change from 10 to 'auto' in 1.4. Set the value of `n_init` explicitly to suppress the warning\n",
            "  super()._check_params_vs_input(X, default_n_init=10)\n"
          ]
        },
        {
          "name": "stdout",
          "output_type": "stream",
          "text": [
            "Cluster initiation: 9\n"
          ]
        }
      ],
      "source": [
        "# Convert to numpy array to fit into KMeans algorithm\n",
        "df_matrix = scaled_cluster_features.to_numpy()\n",
        "\n",
        "# Choose optimal K using Elbow method\n",
        "cost = []\n",
        "\n",
        "# Loop across every possible cluster\n",
        "for cluster in range(1, 10):\n",
        "    kmeans = KMeans(n_clusters = cluster, random_state = 0)\n",
        "\n",
        "    # Fit and predict each customer's cluster\n",
        "    kmeans.fit_predict(df_matrix)\n",
        "\n",
        "    # Store the cost, with the element's index being the cluster number\n",
        "    cost.append(kmeans.inertia_)\n",
        "    print('Cluster initiation: {}'.format(cluster))"
      ]
    },
    {
      "cell_type": "code",
      "execution_count": 22,
      "metadata": {
        "id": "g7-uqQz-wJqE"
      },
      "outputs": [],
      "source": [
        "# Storing the cost of each cluster into a dataframe\n",
        "df_cost = pd.DataFrame({'Cluster': range(1, 10), 'Cost':cost})"
      ]
    },
    {
      "cell_type": "code",
      "execution_count": 23,
      "metadata": {
        "colab": {
          "base_uri": "https://localhost:8080/",
          "height": 548
        },
        "id": "bUBTqoaFBIue",
        "outputId": "2475039d-cae4-4daf-dbf6-9c926c9cc58d"
      },
      "outputs": [
        {
          "data": {
            "image/png": "[encoded data removed]",
            "text/plain": [
              "<Figure size 1000x520 with 1 Axes>"
            ]
          },
          "metadata": {},
          "output_type": "display_data"
        }
      ],
      "source": [
        "# Plots the cost with respect to the number of clusters\n",
        "def _plot_series(series, series_name, series_index=0):\n",
        "  palette = list(sns.palettes.mpl_palette('Dark2'))\n",
        "  # x series\n",
        "  xs = series['Cluster']\n",
        "  # y series\n",
        "  ys = series['Cost']\n",
        "  # plot\n",
        "  plt.plot(xs, ys, label=series_name, color=palette[series_index % len(palette)])\n",
        "\n",
        "fig, ax = plt.subplots(figsize=(10, 5.2), layout='constrained')\n",
        "\n",
        "# Sort by ascending order of cluster\n",
        "df_sorted = df_cost.sort_values('Cluster', ascending=True)\n",
        "_plot_series(df_sorted, '')\n",
        "sns.despine(fig=fig, ax=ax)\n",
        "plt.xlabel('Cluster')\n",
        "_ = plt.ylabel('Cost')"
      ]
    },
    {
      "cell_type": "markdown",
      "metadata": {
        "id": "w2mio56rKpCp"
      },
      "source": [
        "The elbow method is used to determine the optimal number of clusters in a clustering analysis because it provides a straightforward way to evaluate the balance between the complexity of the model (number of clusters) and the model's ability to explain the data variance (fit). In our case, we can see a \"elbow-like\" shape at cluster 3. Hence, we have determined that there are 3 customer segments from our dataset."
      ]
    },
    {
      "cell_type": "code",
      "execution_count": 24,
      "metadata": {
        "colab": {
          "base_uri": "https://localhost:8080/"
        },
        "id": "y9bb302ECX1R",
        "outputId": "3f607560-3d99-492e-cc8e-d6c368c47d1e"
      },
      "outputs": [
        {
          "name": "stderr",
          "output_type": "stream",
          "text": [
            "/usr/local/lib/python3.10/dist-packages/sklearn/cluster/_kmeans.py:1416: FutureWarning: The default value of `n_init` will change from 10 to 'auto' in 1.4. Set the value of `n_init` explicitly to suppress the warning\n",
            "  super()._check_params_vs_input(X, default_n_init=10)\n"
          ]
        },
        {
          "data": {
            "text/plain": [
              "array([0, 2, 0, ..., 2, 0, 0], dtype=int32)"
            ]
          },
          "execution_count": 24,
          "metadata": {},
          "output_type": "execute_result"
        }
      ],
      "source": [
        "# Using the elbow method, the optimal number of clusters to choose is 3.\n",
        "kmeans = KMeans(n_clusters = 3, random_state = 0)\n",
        "\n",
        "# Fits the cluster_features and retrieve the Cluster Assignment predictions of each customer\n",
        "kmeans.fit_predict(df_matrix)"
      ]
    },
    {
      "cell_type": "code",
      "execution_count": 25,
      "metadata": {
        "id": "8BDvcZ63C9FO"
      },
      "outputs": [],
      "source": [
        "cluster_features['cluster'] = kmeans.labels_"
      ]
    },
    {
      "cell_type": "code",
      "execution_count": 26,
      "metadata": {
        "colab": {
          "base_uri": "https://localhost:8080/",
          "height": 472
        },
        "id": "jbEypHneDF-v",
        "outputId": "0cb30de9-a3f5-4d15-9e90-9bab0669600d"
      },
      "outputs": [
        {
          "data": {
            "text/plain": [
              "<Axes: xlabel='average_spending', ylabel='time_diff_hours'>"
            ]
          },
          "execution_count": 26,
          "metadata": {},
          "output_type": "execute_result"
        },
        {
          "data": {
            "image/png": "[encoded data removed]",
            "text/plain": [
              "<Figure size 640x480 with 2 Axes>"
            ]
          },
          "metadata": {},
          "output_type": "display_data"
        }
      ],
      "source": [
        "# Plots the scatterplot with cluster labelling to observe cluster behaviour\n",
        "cluster_features.plot(kind='scatter', x='average_spending', y='time_diff_hours', c = 'cluster', colormap = 'viridis')"
      ]
    },
    {
      "cell_type": "markdown",
      "metadata": {
        "id": "yQwoXDzgUjQ-"
      },
      "source": [
        "## Customer Insights"
      ]
    },
    {
      "cell_type": "markdown",
      "metadata": {
        "id": "lo7Y19IYUpF_"
      },
      "source": [
        "Observing the plot of the generated clusters, we have already determined that customers can be clustered into 3 segments. We will now need to describe each of the customer cluster and give business insights on what business strategies could be done to increase the sales for each of this cluster.\n",
        "\n",
        "For each of the cluster, write no more than 3 sentences to describe each cluster with respect to the other clusters. Some example analysis could be, which cluster has the highest average spending and time_diff_hours? What does a low time_diff_hours mean for the business? How should we tackle customers that are in the low `time_diff_hours` zone?\n"
      ]
    },
    {
      "cell_type": "markdown",
      "metadata": {
        "colab": {
          "base_uri": "https://localhost:8080/",
          "height": 87
        },
        "id": "RAZj-em0fprq",
        "outputId": "7d591cc8-d440-4940-a587-b373cd20663e"
      },
      "source": [
        "\n",
        "First cluster in purple - frequent low spenders:\n",
        "These are customers who buy frequently but spend small amounts.\n",
        "They could maybe benefit from bundling offers or volume discounts to\n",
        "encourage higher transaction. Maybe a loyalty rewards program could also help maintain their engagement and increase their spending.\n",
        "\n",
        "Second cluster in teal - moderate spenders who spends regularly:\n",
        "These are customers who are more balanced with regular spending. They can be targeted with more personalised recomendations based on their purchasing patterns.\n",
        "Offer maybe early access sales to new products.\n",
        "\n",
        "Third cluster in yellow - infrequest spenders:\n",
        "Customers in this group does not buy regularly and spend less. Have to re-engage these customers with targeted marketing campaigns, special offers and personal mails to entice them to come back.\n"
      ]
    },
    {
      "cell_type": "markdown",
      "metadata": {
        "id": "yRAK8uCCMTW8"
      },
      "source": [
        "# Recommendation Strategies"
      ]
    },
    {
      "cell_type": "markdown",
      "metadata": {
        "id": "yJhAmDOef2RU"
      },
      "source": [
        "Based on the insights you have provided, we implement 3 basic strategies\n",
        "\n",
        "1. Popular\n",
        "\n",
        "    Generating the Top K most popular recommendations.\n",
        "\n",
        "2. Content Based Filtering\n",
        "\n",
        "    Generating the Top K most similar items to the last purchased item.\n",
        "\n",
        "\n",
        "3. Collaborative Filtering\n",
        "\n",
        "    Generating recommendations from the Top K most similar customers in terms of purchase history.\n",
        "\n"
      ]
    },
    {
      "cell_type": "markdown",
      "metadata": {
        "id": "oiXwVn9eTaEM"
      },
      "source": [
        "## Popular Recommmendations"
      ]
    },
    {
      "cell_type": "markdown",
      "metadata": {
        "id": "Z28YPuLQX2rO"
      },
      "source": [
        "Using the freq_purchased feature that we have created earlier, we can retrieve the `Top 10` most popular items across all customers."
      ]
    },
    {
      "cell_type": "code",
      "execution_count": 28,
      "metadata": {
        "colab": {
          "base_uri": "https://localhost:8080/"
        },
        "id": "JErvEiTITZCx",
        "outputId": "3a8f47fb-fd61-46b7-d95e-6d9c2496f513"
      },
      "outputs": [
        {
          "name": "stdout",
          "output_type": "stream",
          "text": [
            "       article_id                 prod_name product_type_name  \\\n",
            "14642   706016001  Jade HW Skinny Denim TRS          Trousers   \n",
            "10566   673677002           Henry polo. (1)           Sweater   \n",
            "28560   796210008                     Enter          Trousers   \n",
            "14644   706016003  Jade HW Skinny Denim TRS          Trousers   \n",
            "14643   706016002  Jade HW Skinny Denim TRS          Trousers   \n",
            "25293   772902001                   Haze LS               Top   \n",
            "9566    660599017              Baraboom (1)          Cardigan   \n",
            "3670    562245046            Luna skinny RW          Trousers   \n",
            "10570   673677010            Henry polo (1)           Sweater   \n",
            "29978   811198001              Peg fineknit           Sweater   \n",
            "\n",
            "       product_group_name colour_group_name perceived_colour_master_name  \\\n",
            "14642  Garment Lower body             Black                        Black   \n",
            "10566  Garment Upper body             Black                        Black   \n",
            "28560  Garment Lower body             Black                        Black   \n",
            "14644  Garment Lower body         Dark Blue                         Blue   \n",
            "14643  Garment Lower body        Light Blue                         Blue   \n",
            "25293  Garment Upper body             Black                        Black   \n",
            "9566   Garment Upper body             Black                        Black   \n",
            "3670   Garment Lower body             Black                        Black   \n",
            "10570  Garment Upper body          Dark Red                          Red   \n",
            "29978  Garment Upper body             Black                        Black   \n",
            "\n",
            "      index_group_name garment_group_name  \\\n",
            "14642          Divided           Trousers   \n",
            "10566       Ladieswear           Knitwear   \n",
            "28560       Ladieswear           Trousers   \n",
            "14644          Divided           Trousers   \n",
            "14643          Divided           Trousers   \n",
            "25293          Divided       Jersey Basic   \n",
            "9566        Ladieswear           Knitwear   \n",
            "3670        Ladieswear           Trousers   \n",
            "10570       Ladieswear           Knitwear   \n",
            "29978       Ladieswear           Knitwear   \n",
            "\n",
            "                                             detail_desc  freq_purchased  \\\n",
            "14642  High-waisted jeans in washed superstretch deni...            3617   \n",
            "10566  Jumper in a soft, fine knit with a ribbed polo...            2767   \n",
            "28560  Trousers in superstretch twill with a high wai...            2367   \n",
            "14644  High-waisted jeans in washed superstretch deni...            2247   \n",
            "14643  High-waisted jeans in washed superstretch deni...            2100   \n",
            "25293  Short polo-neck top in viscose jersey with lon...            2089   \n",
            "9566   Long cardigan in a soft, fine knit with long s...            2040   \n",
            "3670   5-pocket jeans in washed, superstretch denim w...            1961   \n",
            "10570  Jumper in a soft, fine knit with a ribbed polo...            1858   \n",
            "29978  Boxy jumper in a soft fine knit made partly fr...            1793   \n",
            "\n",
            "                              combined_desc  \n",
            "14642       Trousers Black Divided Trousers  \n",
            "10566     Sweater Black Ladieswear Knitwear  \n",
            "28560    Trousers Black Ladieswear Trousers  \n",
            "14644   Trousers Dark Blue Divided Trousers  \n",
            "14643  Trousers Light Blue Divided Trousers  \n",
            "25293        Top Black Divided Jersey Basic  \n",
            "9566     Cardigan Black Ladieswear Knitwear  \n",
            "3670     Trousers Black Ladieswear Trousers  \n",
            "10570  Sweater Dark Red Ladieswear Knitwear  \n",
            "29978     Sweater Black Ladieswear Knitwear  \n"
          ]
        }
      ],
      "source": [
        "df_a_sorted = df_a.sort_values(by='freq_purchased', ascending=False)\n",
        "\n",
        "top_10_popular_items = df_a_sorted.head(10)\n",
        "\n",
        "print(top_10_popular_items)"
      ]
    },
    {
      "cell_type": "markdown",
      "metadata": {
        "id": "HXqE2oZyMWvM"
      },
      "source": [
        "## Content-Based Filtering Recommendations"
      ]
    },
    {
      "cell_type": "markdown",
      "metadata": {
        "id": "AN3m1sLDJNh-"
      },
      "source": [
        "Using the item embeddings (`tfidf_scores`) that you have generated, let us generate the Top K (default value = 10) most similar items to the `most recent purchased item` of the customer. We will be using the cosine_similarity function.\n",
        "\n",
        "1. Define the view_last_item_bought function to retrieve the `article_id` of the most recent bought item of a customer.\n",
        "\n",
        "2. Define the get_content_recommendation function to retrieve the top K most similar items as compared to the last bought item of the user. Use the steps below as a guide.\n",
        "    \n",
        "    Step 1: Get the item embedding of the last bought item by the user. First, use the view_last_item_bought function to return the latest bought `article_id`. Next, find the embedding for this `article_id`. This will be your `query_embedding`.\n",
        "    \n",
        "    Step 2: Perform the cosine similarity function between your `query_embedding` vector and the entire item embedding matrix (`tfidf_scores`) to retrieve similarity scores between your query_embedding and all the other item embeddings in your matrix.\n",
        "    \n",
        "    Step 3: Set any item with a similarity score >= 0.95 to 0 as these will be considered items that are equivalent (perfectly similar) to the query item.\n",
        "    \n",
        "    Step 4: Retrieve the Top K = 10 most similar results for the customer with id: 00000dbacae5abe5e23885899a1fa44253a17956c6d1c3d25f88aa139fdfc657. (Hint: Descending order of similarity scores)"
      ]
    },
    {
      "cell_type": "code",
      "execution_count": 29,
      "metadata": {
        "id": "wKNGq3WSAGGA"
      },
      "outputs": [],
      "source": [
        "def view_last_item_bought(customer_id, df_t):\n",
        "    customer_transactions = df_t[df_t['customer_id'] == customer_id]\n",
        "    last_item = customer_transactions.sort_values(by='t_dat', ascending=False).iloc[0]['article_id']\n",
        "    return last_item\n",
        "\n",
        "def get_content_recommendation(df_t, df_a, customer_id, tfidf_scores, k=10):\n",
        "\n",
        "    last_item_id = view_last_item_bought(customer_id, df_t)\n",
        "\n",
        "    item_idx = df_a[df_a['article_id'] == last_item_id].index[0]\n",
        "\n",
        "    query_embedding = tfidf_scores[item_idx]\n",
        "\n",
        "    similarity_scores = cosine_similarity(query_embedding, tfidf_scores).flatten()\n",
        "\n",
        "    similarity_scores[similarity_scores >= 0.95] = 0\n",
        "\n",
        "    similar_item_indices = similarity_scores.argsort()[-k:][::-1]\n",
        "\n",
        "    recommended_items = df_a.iloc[similar_item_indices]\n",
        "\n",
        "    return recommended_items\n"
      ]
    },
    {
      "cell_type": "code",
      "execution_count": 30,
      "metadata": {
        "colab": {
          "base_uri": "https://localhost:8080/"
        },
        "id": "CuDmW0McPW4T",
        "outputId": "3c82772d-9c3f-4686-f295-86122b073b44"
      },
      "outputs": [
        {
          "name": "stdout",
          "output_type": "stream",
          "text": [
            "       article_id        prod_name product_type_name  product_group_name  \\\n",
            "5817    608769002         Bugg (2)            Blazer  Garment Upper body   \n",
            "19490   740791001     Raven blazer            Blazer  Garment Upper body   \n",
            "4057    568601033         Mariette            Blazer  Garment Upper body   \n",
            "4058    568601034         Mariette            Blazer  Garment Upper body   \n",
            "4054    568601029         Mariette            Blazer  Garment Upper body   \n",
            "4052    568601023  Mariette Blazer            Blazer  Garment Upper body   \n",
            "4049    568601008         Mariette            Blazer  Garment Upper body   \n",
            "4056    568601031         Mariette            Blazer  Garment Upper body   \n",
            "4047    568601006  Mariette Blazer            Blazer  Garment Upper body   \n",
            "4050    568601016         Mariette            Blazer  Garment Upper body   \n",
            "\n",
            "      colour_group_name perceived_colour_master_name index_group_name  \\\n",
            "5817              Black                        Black       Ladieswear   \n",
            "19490        Light Grey                         Grey       Ladieswear   \n",
            "4057         Dark Green                        Green       Ladieswear   \n",
            "4058         Light Grey                         Grey       Ladieswear   \n",
            "4054         Light Pink                         Pink       Ladieswear   \n",
            "4052               Grey                         Grey       Ladieswear   \n",
            "4049         Light Grey                         Grey       Ladieswear   \n",
            "4056              Black                        Black       Ladieswear   \n",
            "4047              Black                        Black       Ladieswear   \n",
            "4050          Dark Blue                         Blue       Ladieswear   \n",
            "\n",
            "      garment_group_name                                        detail_desc  \\\n",
            "5817             Dressed  Jacket in woven fabric with notch lapels and a...   \n",
            "19490            Dressed  Fitted jacket in woven fabric with notch lapel...   \n",
            "4057             Dressed  Fitted jacket in woven fabric with notch lapel...   \n",
            "4058             Dressed  Fitted jacket in woven fabric with notch lapel...   \n",
            "4054             Dressed  Fitted jacket in woven fabric with notch lapel...   \n",
            "4052             Dressed  Fitted jacket in woven fabric with notch lapel...   \n",
            "4049             Dressed  Fitted jacket in woven fabric with notch lapel...   \n",
            "4056             Dressed  Fitted jacket in woven fabric with notch lapel...   \n",
            "4047             Dressed  Fitted jacket in woven fabric with notch lapel...   \n",
            "4050             Dressed  Fitted jacket in woven fabric with notch lapel...   \n",
            "\n",
            "       freq_purchased                         combined_desc  \n",
            "5817                1       Blazer Black Ladieswear Dressed  \n",
            "19490             192  Blazer Light Grey Ladieswear Dressed  \n",
            "4057              391  Blazer Dark Green Ladieswear Dressed  \n",
            "4058              629  Blazer Light Grey Ladieswear Dressed  \n",
            "4054              168  Blazer Light Pink Ladieswear Dressed  \n",
            "4052                6        Blazer Grey Ladieswear Dressed  \n",
            "4049                1  Blazer Light Grey Ladieswear Dressed  \n",
            "4056              383       Blazer Black Ladieswear Dressed  \n",
            "4047             1594       Blazer Black Ladieswear Dressed  \n",
            "4050                7   Blazer Dark Blue Ladieswear Dressed  \n"
          ]
        }
      ],
      "source": [
        "content_recommendations = get_content_recommendation(df_t, df_a, '00000dbacae5abe5e23885899a1fa44253a17956c6d1c3d25f88aa139fdfc657', tfidf_scores)\n",
        "print(content_recommendations)"
      ]
    },
    {
      "cell_type": "markdown",
      "metadata": {
        "id": "A1V5OrU33HWr"
      },
      "source": [
        "## User-Based Collaborative Filtering Recommendations"
      ]
    },
    {
      "cell_type": "markdown",
      "metadata": {
        "id": "BoQGPi4HT4xG"
      },
      "source": [
        "For this recommendation strategy, we will be performing User-based Collaborative Filtering where recommendations are generated from the `most popular` interactions by the `most similar` customers as compared to the query customer. We will consider only neighbours that have a similarity score (>= 0.6) which represents a high similarity in customer behaviour with respect to the query customer. Among these similar neighbours, We will then perform a majority voting on the most interacted items. The most popular items among the similar neighbours are recommended to the customer. `Take note, the recommended items have to be items that have not been interacted by the customer in the past.`\n"
      ]
    },
    {
      "cell_type": "markdown",
      "metadata": {
        "id": "yCZEMpazboeG"
      },
      "source": [
        "### Creating the user-item interactions dataframe"
      ]
    },
    {
      "cell_type": "code",
      "execution_count": 31,
      "metadata": {
        "colab": {
          "base_uri": "https://localhost:8080/"
        },
        "id": "6QAvmbUkYDZc",
        "outputId": "c2b579f7-d806-4d3b-b1ca-26bc55e3aa0e"
      },
      "outputs": [
        {
          "name": "stdout",
          "output_type": "stream",
          "text": [
            "                                         customer_id  article_id  frequency\n",
            "0  00000dbacae5abe5e23885899a1fa44253a17956c6d1c3...   797065001          2\n",
            "1  00006413d8573cd20ed7128e53b7b13819fe5cfc2d801f...   399061015          2\n",
            "2  000064249685c11552da43ef22a5030f35a147f723d5b0...   680265002          1\n",
            "3  000064249685c11552da43ef22a5030f35a147f723d5b0...   738133005          1\n",
            "4  000064249685c11552da43ef22a5030f35a147f723d5b0...   740962001          1\n"
          ]
        }
      ],
      "source": [
        "# create the user-item interactions dataframe\n",
        "user_item_interactions = df_t.groupby(['customer_id', 'article_id']).size().reset_index(name='frequency')\n",
        "\n",
        "# Display the user-item interactions\n",
        "print(user_item_interactions.head())"
      ]
    },
    {
      "cell_type": "markdown",
      "metadata": {
        "id": "8lGJlHMObx2f"
      },
      "source": [
        "### Preparing the similarity matrix"
      ]
    },
    {
      "cell_type": "markdown",
      "metadata": {
        "id": "oe5poNweUVam"
      },
      "source": [
        "Step 1: Using the LabelEncoder library from sklearn, run the fit_transform method to fit and transform the `customer_id` column and `article_id` column into indexes. Create new columns for each of these indexes, `user_idx` and `item_idx` respectively in the `user_item_interactions` dataframe. These indexes will be needed to generate the affinity (user-item) matrix where the indexes can be referenced back to the customer_id and article_id format easily.\n",
        "\n",
        "Step 2: Using the `user_item_interactions` dataframe you have defined in Task 5.3.1, create a sparse affinity (user-item) matrix using the scipy.sparse library. The rows represent the user encoded index, columns represent every article index in `df_a`. Each element is represented with a 1 if the user has purchased the item, and 0 if the user has not.\n",
        "\n",
        "Step 3: Call the sklearn's cosine_similarity function on the sparse affinity (user-item) matrix to find the most similar neighbouring customers (in terms of purchase behaviour) for each customer."
      ]
    },
    {
      "cell_type": "code",
      "execution_count": 32,
      "metadata": {
        "id": "HawFTaE1qMhM"
      },
      "outputs": [],
      "source": [
        "user_encoder = LabelEncoder()\n",
        "item_encoder = LabelEncoder()\n",
        "\n",
        "user_item_interactions['user_idx'] = user_encoder.fit_transform(user_item_interactions['customer_id'])\n",
        "user_item_interactions['item_idx'] = item_encoder.fit_transform(user_item_interactions['article_id'])\n",
        "\n",
        "user_item_matrix = csr_matrix((user_item_interactions['frequency'],\n",
        "                               (user_item_interactions['user_idx'], user_item_interactions['item_idx'])))\n"
      ]
    },
    {
      "cell_type": "code",
      "execution_count": 37,
      "metadata": {
        "colab": {
          "base_uri": "https://localhost:8080/"
        },
        "id": "o8rUCCl8BKnH",
        "outputId": "2eeeacd9-425f-4b45-e4f5-f86326829263"
      },
      "outputs": [
        {
          "name": "stdout",
          "output_type": "stream",
          "text": [
            "(264401, 264401)\n"
          ]
        }
      ],
      "source": [
        "from scipy.sparse import vstack, csr_matrix\n",
        "\n",
        "def calculate_similarity_in_batches(user_item_matrix, batch_size=5000):\n",
        "    user_similarity_matrices = []\n",
        "\n",
        "    num_users = user_item_matrix.shape[0]\n",
        "\n",
        "    for start in range(0, num_users, batch_size):\n",
        "        end = min(start + batch_size, num_users)\n",
        "        batch = user_item_matrix[start:end]\n",
        "\n",
        "        user_similarity_batch = cosine_similarity(batch, user_item_matrix, dense_output=False)\n",
        "\n",
        "        user_similarity_matrices.append(user_similarity_batch)\n",
        "\n",
        "    user_similarity_matrix = vstack(user_similarity_matrices)\n",
        "\n",
        "    return user_similarity_matrix\n",
        "\n",
        "user_similarity_matrix = calculate_similarity_in_batches(user_item_matrix, batch_size=5000)\n",
        "\n",
        "print(user_similarity_matrix.shape)"
      ]
    },
    {
      "cell_type": "markdown",
      "metadata": {
        "id": "QA_6A6qweDca"
      },
      "source": [
        "### Generating user-based collaborative filtering recommendations"
      ]
    },
    {
      "cell_type": "markdown",
      "metadata": {
        "id": "qPjf3RUTYvoX"
      },
      "source": [
        "Function takes the arguments user_similarity_matrix which has been defined in the previous task, customer_id as the customer we want to generate recommendations for, k = 10 which represents the top 10 recommendations generated, and sim_threshold = 0.6 which represents any customer that has a similarity score >= 0.6 is considered a similar customer and will be included in the majority voting process\n",
        "\n",
        "Step 1: Encode the customer_id to retrieve the index of the customer you are generating recommendations for. Also, find out the list of article_ids that have already been interacted by the query customer. (0.3 marks)\n",
        "\n",
        "Step 2: Index `user_similarity_matrix` to find retrieve all the similarity scores between the queried user and all other customers (0.3 marks)\n",
        "\n",
        "Step 3: Filter `away` users who have perfect similarity scores (>= 0.95) as there are no new items to recommend to the query customer. (0.3 marks)\n",
        "\n",
        "Step 4: We will use a default threshold similarity of 0.6. Filter only neighbours that have similarity scores >= 0.6. (0.3 marks)\n",
        "\n",
        "Step 5: With the help of the defined `user_item_interactions` dataframe, find the most interacted items that were interacted by the most similar neighbours (defined in Step 3 and 4). (0.3 marks)\n",
        "\n",
        "Step 6: Generate the Top 10 (most interacted by neighbours) recommendations for the customer with id (this is the query customer): `00000dbacae5abe5e23885899a1fa44253a17956c6d1c3d25f88aa139fdfc657` (0.2 marks)\n"
      ]
    },
    {
      "cell_type": "code",
      "execution_count": 44,
      "metadata": {
        "id": "zCZPV21Gw6bm"
      },
      "outputs": [],
      "source": [
        "def get_collaborative_filtering_recommendations(user_similarity_matrix, customer_id, k=10, sim_threshold=0.6):\n",
        "    # 1\n",
        "    customer_idx = user_encoder.transform([customer_id])[0]\n",
        "    interacted_items = user_item_interactions[user_item_interactions['user_idx'] == customer_idx]['item_idx'].values\n",
        "\n",
        "    # 2\n",
        "    customer_similarities = user_similarity_matrix[customer_idx].toarray().flatten()\n",
        "\n",
        "    # 3\n",
        "    customer_similarities[customer_similarities >= 0.95] = 0\n",
        "\n",
        "    # 4\n",
        "    similar_customers = np.where(customer_similarities >= sim_threshold)[0]\n",
        "\n",
        "    # 5\n",
        "    similar_customers_items = user_item_interactions[user_item_interactions['user_idx'].isin(similar_customers)]\n",
        "\n",
        "    new_recommendations = similar_customers_items[~similar_customers_items['item_idx'].isin(interacted_items)]\n",
        "    top_recommendations = new_recommendations.groupby('item_idx').sum().sort_values(by='frequency', ascending=False).head(k)\n",
        "    recommended_article_ids = item_encoder.inverse_transform(top_recommendations.index)\n",
        "\n",
        "    recommended_items = df_a[df_a['article_id'].isin(recommended_article_ids)]\n",
        "\n",
        "    return recommended_items\n"
      ]
    },
    {
      "cell_type": "code",
      "execution_count": 43,
      "metadata": {
        "colab": {
          "base_uri": "https://localhost:8080/",
          "height": 537
        },
        "id": "Bkuwze0p1hhR",
        "outputId": "20897b3a-9f87-4112-82b4-46cb1b85f5d2"
      },
      "outputs": [
        {
          "data": {
            "application/vnd.google.colaboratory.intrinsic+json": {
              "summary": "{\n  \"name\": \"items_to_recommend\",\n  \"rows\": 10,\n  \"fields\": [\n    {\n      \"column\": \"article_id\",\n      \"properties\": {\n        \"dtype\": \"number\",\n        \"std\": 110601197,\n        \"min\": 554598001,\n        \"max\": 795675003,\n        \"num_unique_values\": 10,\n        \"samples\": [\n          795675001,\n          568597006,\n          675068002\n        ],\n        \"semantic_type\": \"\",\n        \"description\": \"\"\n      }\n    },\n    {\n      \"column\": \"prod_name\",\n      \"properties\": {\n        \"dtype\": \"string\",\n        \"num_unique_values\": 9,\n        \"samples\": [\n          \"Isabella shirt\",\n          \"Hayes slim trouser\",\n          \"Melrose\"\n        ],\n        \"semantic_type\": \"\",\n        \"description\": \"\"\n      }\n    },\n    {\n      \"column\": \"product_type_name\",\n      \"properties\": {\n        \"dtype\": \"string\",\n        \"num_unique_values\": 5,\n        \"samples\": [\n          \"Trousers\",\n          \"Vest top\",\n          \"Blazer\"\n        ],\n        \"semantic_type\": \"\",\n        \"description\": \"\"\n      }\n    },\n    {\n      \"column\": \"product_group_name\",\n      \"properties\": {\n        \"dtype\": \"category\",\n        \"num_unique_values\": 2,\n        \"samples\": [\n          \"Garment Lower body\",\n          \"Garment Upper body\"\n        ],\n        \"semantic_type\": \"\",\n        \"description\": \"\"\n      }\n    },\n    {\n      \"column\": \"colour_group_name\",\n      \"properties\": {\n        \"dtype\": \"category\",\n        \"num_unique_values\": 2,\n        \"samples\": [\n          \"White\",\n          \"Black\"\n        ],\n        \"semantic_type\": \"\",\n        \"description\": \"\"\n      }\n    },\n    {\n      \"column\": \"perceived_colour_master_name\",\n      \"properties\": {\n        \"dtype\": \"category\",\n        \"num_unique_values\": 2,\n        \"samples\": [\n          \"White\",\n          \"Black\"\n        ],\n        \"semantic_type\": \"\",\n        \"description\": \"\"\n      }\n    },\n    {\n      \"column\": \"index_group_name\",\n      \"properties\": {\n        \"dtype\": \"category\",\n        \"num_unique_values\": 2,\n        \"samples\": [\n          \"Divided\",\n          \"Ladieswear\"\n        ],\n        \"semantic_type\": \"\",\n        \"description\": \"\"\n      }\n    },\n    {\n      \"column\": \"garment_group_name\",\n      \"properties\": {\n        \"dtype\": \"category\",\n        \"num_unique_values\": 4,\n        \"samples\": [\n          \"Trousers\",\n          \"Blouses\"\n        ],\n        \"semantic_type\": \"\",\n        \"description\": \"\"\n      }\n    },\n    {\n      \"column\": \"detail_desc\",\n      \"properties\": {\n        \"dtype\": \"string\",\n        \"num_unique_values\": 9,\n        \"samples\": [\n          \"Fitted shirt in a stretch weave made from a cotton blend with a collar and concealed buttons down the front. Chest pocket, long sleeves with buttoned cuffs, and a gently rounded hem.\",\n          \"Suit trousers in a stretch weave with a regular waist, zip fly and concealed hook-and-eye fastening. Side pockets and tapered legs with creases.\"\n        ],\n        \"semantic_type\": \"\",\n        \"description\": \"\"\n      }\n    },\n    {\n      \"column\": \"freq_purchased\",\n      \"properties\": {\n        \"dtype\": \"number\",\n        \"std\": 509,\n        \"min\": 88,\n        \"max\": 1594,\n        \"num_unique_values\": 10,\n        \"samples\": [\n          632,\n          1103\n        ],\n        \"semantic_type\": \"\",\n        \"description\": \"\"\n      }\n    },\n    {\n      \"column\": \"combined_desc\",\n      \"properties\": {\n        \"dtype\": \"string\",\n        \"num_unique_values\": 6,\n        \"samples\": [\n          \"T-shirt Black Ladieswear Jersey Basic\",\n          \"Trousers Black Ladieswear Trousers\"\n        ],\n        \"semantic_type\": \"\",\n        \"description\": \"\"\n      }\n    }\n  ]\n}",
              "type": "dataframe",
              "variable_name": "items_to_recommend"
            },
            "text/html": [
              "\n",
              "  <div id=\"df-23430c5f-40f6-475d-a2b9-38aef97f5a6c\" class=\"colab-df-container\">\n",
              "    <div>\n",
              "<style scoped>\n",
              "    .dataframe tbody tr th:only-of-type {\n",
              "        vertical-align: middle;\n",
              "    }\n",
              "\n",
              "    .dataframe tbody tr th {\n",
              "        vertical-align: top;\n",
              "    }\n",
              "\n",
              "    .dataframe thead th {\n",
              "        text-align: right;\n",
              "    }\n",
              "</style>\n",
              "<table border=\"1\" class=\"dataframe\">\n",
              "  <thead>\n",
              "    <tr style=\"text-align: right;\">\n",
              "      <th></th>\n",
              "      <th>article_id</th>\n",
              "      <th>prod_name</th>\n",
              "      <th>product_type_name</th>\n",
              "      <th>product_group_name</th>\n",
              "      <th>colour_group_name</th>\n",
              "      <th>perceived_colour_master_name</th>\n",
              "      <th>index_group_name</th>\n",
              "      <th>garment_group_name</th>\n",
              "      <th>detail_desc</th>\n",
              "      <th>freq_purchased</th>\n",
              "      <th>combined_desc</th>\n",
              "    </tr>\n",
              "  </thead>\n",
              "  <tbody>\n",
              "    <tr>\n",
              "      <th>3264</th>\n",
              "      <td>554598001</td>\n",
              "      <td>Nora T-shirt</td>\n",
              "      <td>T-shirt</td>\n",
              "      <td>Garment Upper body</td>\n",
              "      <td>Black</td>\n",
              "      <td>Black</td>\n",
              "      <td>Ladieswear</td>\n",
              "      <td>Jersey Basic</td>\n",
              "      <td>T-shirt in soft jersey with a round neck, shor...</td>\n",
              "      <td>383</td>\n",
              "      <td>T-shirt Black Ladieswear Jersey Basic</td>\n",
              "    </tr>\n",
              "    <tr>\n",
              "      <th>4038</th>\n",
              "      <td>568597006</td>\n",
              "      <td>Hayes slim trouser</td>\n",
              "      <td>Trousers</td>\n",
              "      <td>Garment Lower body</td>\n",
              "      <td>Black</td>\n",
              "      <td>Black</td>\n",
              "      <td>Ladieswear</td>\n",
              "      <td>Trousers</td>\n",
              "      <td>Suit trousers in a stretch weave with a regula...</td>\n",
              "      <td>1103</td>\n",
              "      <td>Trousers Black Ladieswear Trousers</td>\n",
              "    </tr>\n",
              "    <tr>\n",
              "      <th>4047</th>\n",
              "      <td>568601006</td>\n",
              "      <td>Mariette Blazer</td>\n",
              "      <td>Blazer</td>\n",
              "      <td>Garment Upper body</td>\n",
              "      <td>Black</td>\n",
              "      <td>Black</td>\n",
              "      <td>Ladieswear</td>\n",
              "      <td>Dressed</td>\n",
              "      <td>Fitted jacket in woven fabric with notch lapel...</td>\n",
              "      <td>1594</td>\n",
              "      <td>Blazer Black Ladieswear Dressed</td>\n",
              "    </tr>\n",
              "    <tr>\n",
              "      <th>4065</th>\n",
              "      <td>568808001</td>\n",
              "      <td>Vermont Summer Slacks</td>\n",
              "      <td>Trousers</td>\n",
              "      <td>Garment Lower body</td>\n",
              "      <td>Black</td>\n",
              "      <td>Black</td>\n",
              "      <td>Ladieswear</td>\n",
              "      <td>Trousers</td>\n",
              "      <td>Ankle-length, tailored trousers in woven fabri...</td>\n",
              "      <td>324</td>\n",
              "      <td>Trousers Black Ladieswear Trousers</td>\n",
              "    </tr>\n",
              "    <tr>\n",
              "      <th>4567</th>\n",
              "      <td>578487002</td>\n",
              "      <td>Burmilla (1)</td>\n",
              "      <td>Blazer</td>\n",
              "      <td>Garment Upper body</td>\n",
              "      <td>Black</td>\n",
              "      <td>Black</td>\n",
              "      <td>Ladieswear</td>\n",
              "      <td>Dressed</td>\n",
              "      <td>Straight-cut jacket in woven fabric with notch...</td>\n",
              "      <td>88</td>\n",
              "      <td>Blazer Black Ladieswear Dressed</td>\n",
              "    </tr>\n",
              "    <tr>\n",
              "      <th>10713</th>\n",
              "      <td>675068002</td>\n",
              "      <td>Melrose</td>\n",
              "      <td>Shirt</td>\n",
              "      <td>Garment Upper body</td>\n",
              "      <td>White</td>\n",
              "      <td>White</td>\n",
              "      <td>Ladieswear</td>\n",
              "      <td>Blouses</td>\n",
              "      <td>Straight-cut shirt in an airy cotton weave wit...</td>\n",
              "      <td>171</td>\n",
              "      <td>Shirt White Ladieswear Blouses</td>\n",
              "    </tr>\n",
              "    <tr>\n",
              "      <th>25964</th>\n",
              "      <td>778204001</td>\n",
              "      <td>Ice landic blazer</td>\n",
              "      <td>Blazer</td>\n",
              "      <td>Garment Upper body</td>\n",
              "      <td>Black</td>\n",
              "      <td>Black</td>\n",
              "      <td>Ladieswear</td>\n",
              "      <td>Dressed</td>\n",
              "      <td>Fitted, single-breasted jacket in woven fabric...</td>\n",
              "      <td>186</td>\n",
              "      <td>Blazer Black Ladieswear Dressed</td>\n",
              "    </tr>\n",
              "    <tr>\n",
              "      <th>27732</th>\n",
              "      <td>789772001</td>\n",
              "      <td>Isabella shirt</td>\n",
              "      <td>Shirt</td>\n",
              "      <td>Garment Upper body</td>\n",
              "      <td>White</td>\n",
              "      <td>White</td>\n",
              "      <td>Ladieswear</td>\n",
              "      <td>Blouses</td>\n",
              "      <td>Fitted shirt in a stretch weave made from a co...</td>\n",
              "      <td>1071</td>\n",
              "      <td>Shirt White Ladieswear Blouses</td>\n",
              "    </tr>\n",
              "    <tr>\n",
              "      <th>28460</th>\n",
              "      <td>795675001</td>\n",
              "      <td>Gabbi tank/nina/nelia</td>\n",
              "      <td>Vest top</td>\n",
              "      <td>Garment Upper body</td>\n",
              "      <td>Black</td>\n",
              "      <td>Black</td>\n",
              "      <td>Divided</td>\n",
              "      <td>Jersey Basic</td>\n",
              "      <td>Fitted vest top in stretch cotton jersey.</td>\n",
              "      <td>632</td>\n",
              "      <td>Vest top Black Divided Jersey Basic</td>\n",
              "    </tr>\n",
              "    <tr>\n",
              "      <th>28461</th>\n",
              "      <td>795675003</td>\n",
              "      <td>Gabbi tank/nina/nelia</td>\n",
              "      <td>Vest top</td>\n",
              "      <td>Garment Upper body</td>\n",
              "      <td>White</td>\n",
              "      <td>White</td>\n",
              "      <td>Divided</td>\n",
              "      <td>Jersey Basic</td>\n",
              "      <td>Fitted vest top in stretch cotton jersey.</td>\n",
              "      <td>225</td>\n",
              "      <td>Vest top White Divided Jersey Basic</td>\n",
              "    </tr>\n",
              "  </tbody>\n",
              "</table>\n",
              "</div>\n",
              "    <div class=\"colab-df-buttons\">\n",
              "\n",
              "  <div class=\"colab-df-container\">\n",
              "    <button class=\"colab-df-convert\" onclick=\"convertToInteractive('df-23430c5f-40f6-475d-a2b9-38aef97f5a6c')\"\n",
              "            title=\"Convert this dataframe to an interactive table.\"\n",
              "            style=\"display:none;\">\n",
              "\n",
              "  <svg xmlns=\"http://www.w3.org/2000/svg\" height=\"24px\" viewBox=\"0 -960 960 960\">\n",
              "    <path d=\"M120-120v-720h720v720H120Zm60-500h600v-160H180v160Zm220 220h160v-160H400v160Zm0 220h160v-160H400v160ZM180-400h160v-160H180v160Zm440 0h160v-160H620v160ZM180-180h160v-160H180v160Zm440 0h160v-160H620v160Z\"/>\n",
              "  </svg>\n",
              "    </button>\n",
              "\n",
              "  <style>\n",
              "    .colab-df-container {\n",
              "      display:flex;\n",
              "      gap: 12px;\n",
              "    }\n",
              "\n",
              "    .colab-df-convert {\n",
              "      background-color: #E8F0FE;\n",
              "      border: none;\n",
              "      border-radius: 50%;\n",
              "      cursor: pointer;\n",
              "      display: none;\n",
              "      fill: #1967D2;\n",
              "      height: 32px;\n",
              "      padding: 0 0 0 0;\n",
              "      width: 32px;\n",
              "    }\n",
              "\n",
              "    .colab-df-convert:hover {\n",
              "      background-color: #E2EBFA;\n",
              "      box-shadow: 0px 1px 2px rgba(60, 64, 67, 0.3), 0px 1px 3px 1px rgba(60, 64, 67, 0.15);\n",
              "      fill: #174EA6;\n",
              "    }\n",
              "\n",
              "    .colab-df-buttons div {\n",
              "      margin-bottom: 4px;\n",
              "    }\n",
              "\n",
              "    [theme=dark] .colab-df-convert {\n",
              "      background-color: #3B4455;\n",
              "      fill: #D2E3FC;\n",
              "    }\n",
              "\n",
              "    [theme=dark] .colab-df-convert:hover {\n",
              "      background-color: #434B5C;\n",
              "      box-shadow: 0px 1px 3px 1px rgba(0, 0, 0, 0.15);\n",
              "      filter: drop-shadow(0px 1px 2px rgba(0, 0, 0, 0.3));\n",
              "      fill: #FFFFFF;\n",
              "    }\n",
              "  </style>\n",
              "\n",
              "    <script>\n",
              "      const buttonEl =\n",
              "        document.querySelector('#df-23430c5f-40f6-475d-a2b9-38aef97f5a6c button.colab-df-convert');\n",
              "      buttonEl.style.display =\n",
              "        google.colab.kernel.accessAllowed ? 'block' : 'none';\n",
              "\n",
              "      async function convertToInteractive(key) {\n",
              "        const element = document.querySelector('#df-23430c5f-40f6-475d-a2b9-38aef97f5a6c');\n",
              "        const dataTable =\n",
              "          await google.colab.kernel.invokeFunction('convertToInteractive',\n",
              "                                                    [key], {});\n",
              "        if (!dataTable) return;\n",
              "\n",
              "        const docLinkHtml = 'Like what you see? Visit the ' +\n",
              "          '<a target=\"_blank\" href=https://colab.research.google.com/notebooks/data_table.ipynb>data table notebook</a>'\n",
              "          + ' to learn more about interactive tables.';\n",
              "        element.innerHTML = '';\n",
              "        dataTable['output_type'] = 'display_data';\n",
              "        await google.colab.output.renderOutput(dataTable, element);\n",
              "        const docLink = document.createElement('div');\n",
              "        docLink.innerHTML = docLinkHtml;\n",
              "        element.appendChild(docLink);\n",
              "      }\n",
              "    </script>\n",
              "  </div>\n",
              "\n",
              "\n",
              "<div id=\"df-e1e2ae24-19d7-4d7d-ba6b-7c3e74212000\">\n",
              "  <button class=\"colab-df-quickchart\" onclick=\"quickchart('df-e1e2ae24-19d7-4d7d-ba6b-7c3e74212000')\"\n",
              "            title=\"Suggest charts\"\n",
              "            style=\"display:none;\">\n",
              "\n",
              "<svg xmlns=\"http://www.w3.org/2000/svg\" height=\"24px\"viewBox=\"0 0 24 24\"\n",
              "     width=\"24px\">\n",
              "    <g>\n",
              "        <path d=\"M19 3H5c-1.1 0-2 .9-2 2v14c0 1.1.9 2 2 2h14c1.1 0 2-.9 2-2V5c0-1.1-.9-2-2-2zM9 17H7v-7h2v7zm4 0h-2V7h2v10zm4 0h-2v-4h2v4z\"/>\n",
              "    </g>\n",
              "</svg>\n",
              "  </button>\n",
              "\n",
              "<style>\n",
              "  .colab-df-quickchart {\n",
              "      --bg-color: #E8F0FE;\n",
              "      --fill-color: #1967D2;\n",
              "      --hover-bg-color: #E2EBFA;\n",
              "      --hover-fill-color: #174EA6;\n",
              "      --disabled-fill-color: #AAA;\n",
              "      --disabled-bg-color: #DDD;\n",
              "  }\n",
              "\n",
              "  [theme=dark] .colab-df-quickchart {\n",
              "      --bg-color: #3B4455;\n",
              "      --fill-color: #D2E3FC;\n",
              "      --hover-bg-color: #434B5C;\n",
              "      --hover-fill-color: #FFFFFF;\n",
              "      --disabled-bg-color: #3B4455;\n",
              "      --disabled-fill-color: #666;\n",
              "  }\n",
              "\n",
              "  .colab-df-quickchart {\n",
              "    background-color: var(--bg-color);\n",
              "    border: none;\n",
              "    border-radius: 50%;\n",
              "    cursor: pointer;\n",
              "    display: none;\n",
              "    fill: var(--fill-color);\n",
              "    height: 32px;\n",
              "    padding: 0;\n",
              "    width: 32px;\n",
              "  }\n",
              "\n",
              "  .colab-df-quickchart:hover {\n",
              "    background-color: var(--hover-bg-color);\n",
              "    box-shadow: 0 1px 2px rgba(60, 64, 67, 0.3), 0 1px 3px 1px rgba(60, 64, 67, 0.15);\n",
              "    fill: var(--button-hover-fill-color);\n",
              "  }\n",
              "\n",
              "  .colab-df-quickchart-complete:disabled,\n",
              "  .colab-df-quickchart-complete:disabled:hover {\n",
              "    background-color: var(--disabled-bg-color);\n",
              "    fill: var(--disabled-fill-color);\n",
              "    box-shadow: none;\n",
              "  }\n",
              "\n",
              "  .colab-df-spinner {\n",
              "    border: 2px solid var(--fill-color);\n",
              "    border-color: transparent;\n",
              "    border-bottom-color: var(--fill-color);\n",
              "    animation:\n",
              "      spin 1s steps(1) infinite;\n",
              "  }\n",
              "\n",
              "  @keyframes spin {\n",
              "    0% {\n",
              "      border-color: transparent;\n",
              "      border-bottom-color: var(--fill-color);\n",
              "      border-left-color: var(--fill-color);\n",
              "    }\n",
              "    20% {\n",
              "      border-color: transparent;\n",
              "      border-left-color: var(--fill-color);\n",
              "      border-top-color: var(--fill-color);\n",
              "    }\n",
              "    30% {\n",
              "      border-color: transparent;\n",
              "      border-left-color: var(--fill-color);\n",
              "      border-top-color: var(--fill-color);\n",
              "      border-right-color: var(--fill-color);\n",
              "    }\n",
              "    40% {\n",
              "      border-color: transparent;\n",
              "      border-right-color: var(--fill-color);\n",
              "      border-top-color: var(--fill-color);\n",
              "    }\n",
              "    60% {\n",
              "      border-color: transparent;\n",
              "      border-right-color: var(--fill-color);\n",
              "    }\n",
              "    80% {\n",
              "      border-color: transparent;\n",
              "      border-right-color: var(--fill-color);\n",
              "      border-bottom-color: var(--fill-color);\n",
              "    }\n",
              "    90% {\n",
              "      border-color: transparent;\n",
              "      border-bottom-color: var(--fill-color);\n",
              "    }\n",
              "  }\n",
              "</style>\n",
              "\n",
              "  <script>\n",
              "    async function quickchart(key) {\n",
              "      const quickchartButtonEl =\n",
              "        document.querySelector('#' + key + ' button');\n",
              "      quickchartButtonEl.disabled = true;  // To prevent multiple clicks.\n",
              "      quickchartButtonEl.classList.add('colab-df-spinner');\n",
              "      try {\n",
              "        const charts = await google.colab.kernel.invokeFunction(\n",
              "            'suggestCharts', [key], {});\n",
              "      } catch (error) {\n",
              "        console.error('Error during call to suggestCharts:', error);\n",
              "      }\n",
              "      quickchartButtonEl.classList.remove('colab-df-spinner');\n",
              "      quickchartButtonEl.classList.add('colab-df-quickchart-complete');\n",
              "    }\n",
              "    (() => {\n",
              "      let quickchartButtonEl =\n",
              "        document.querySelector('#df-e1e2ae24-19d7-4d7d-ba6b-7c3e74212000 button');\n",
              "      quickchartButtonEl.style.display =\n",
              "        google.colab.kernel.accessAllowed ? 'block' : 'none';\n",
              "    })();\n",
              "  </script>\n",
              "</div>\n",
              "\n",
              "  <div id=\"id_26e242be-7f70-4dae-92a3-43cdead84638\">\n",
              "    <style>\n",
              "      .colab-df-generate {\n",
              "        background-color: #E8F0FE;\n",
              "        border: none;\n",
              "        border-radius: 50%;\n",
              "        cursor: pointer;\n",
              "        display: none;\n",
              "        fill: #1967D2;\n",
              "        height: 32px;\n",
              "        padding: 0 0 0 0;\n",
              "        width: 32px;\n",
              "      }\n",
              "\n",
              "      .colab-df-generate:hover {\n",
              "        background-color: #E2EBFA;\n",
              "        box-shadow: 0px 1px 2px rgba(60, 64, 67, 0.3), 0px 1px 3px 1px rgba(60, 64, 67, 0.15);\n",
              "        fill: #174EA6;\n",
              "      }\n",
              "\n",
              "      [theme=dark] .colab-df-generate {\n",
              "        background-color: #3B4455;\n",
              "        fill: #D2E3FC;\n",
              "      }\n",
              "\n",
              "      [theme=dark] .colab-df-generate:hover {\n",
              "        background-color: #434B5C;\n",
              "        box-shadow: 0px 1px 3px 1px rgba(0, 0, 0, 0.15);\n",
              "        filter: drop-shadow(0px 1px 2px rgba(0, 0, 0, 0.3));\n",
              "        fill: #FFFFFF;\n",
              "      }\n",
              "    </style>\n",
              "    <button class=\"colab-df-generate\" onclick=\"generateWithVariable('items_to_recommend')\"\n",
              "            title=\"Generate code using this dataframe.\"\n",
              "            style=\"display:none;\">\n",
              "\n",
              "  <svg xmlns=\"http://www.w3.org/2000/svg\" height=\"24px\"viewBox=\"0 0 24 24\"\n",
              "       width=\"24px\">\n",
              "    <path d=\"M7,19H8.4L18.45,9,17,7.55,7,17.6ZM5,21V16.75L18.45,3.32a2,2,0,0,1,2.83,0l1.4,1.43a1.91,1.91,0,0,1,.58,1.4,1.91,1.91,0,0,1-.58,1.4L9.25,21ZM18.45,9,17,7.55Zm-12,3A5.31,5.31,0,0,0,4.9,8.1,5.31,5.31,0,0,0,1,6.5,5.31,5.31,0,0,0,4.9,4.9,5.31,5.31,0,0,0,6.5,1,5.31,5.31,0,0,0,8.1,4.9,5.31,5.31,0,0,0,12,6.5,5.46,5.46,0,0,0,6.5,12Z\"/>\n",
              "  </svg>\n",
              "    </button>\n",
              "    <script>\n",
              "      (() => {\n",
              "      const buttonEl =\n",
              "        document.querySelector('#id_26e242be-7f70-4dae-92a3-43cdead84638 button.colab-df-generate');\n",
              "      buttonEl.style.display =\n",
              "        google.colab.kernel.accessAllowed ? 'block' : 'none';\n",
              "\n",
              "      buttonEl.onclick = () => {\n",
              "        google.colab.notebook.generateWithVariable('items_to_recommend');\n",
              "      }\n",
              "      })();\n",
              "    </script>\n",
              "  </div>\n",
              "\n",
              "    </div>\n",
              "  </div>\n"
            ],
            "text/plain": [
              "       article_id              prod_name product_type_name  \\\n",
              "3264    554598001           Nora T-shirt           T-shirt   \n",
              "4038    568597006     Hayes slim trouser          Trousers   \n",
              "4047    568601006        Mariette Blazer            Blazer   \n",
              "4065    568808001  Vermont Summer Slacks          Trousers   \n",
              "4567    578487002           Burmilla (1)            Blazer   \n",
              "10713   675068002                Melrose             Shirt   \n",
              "25964   778204001      Ice landic blazer            Blazer   \n",
              "27732   789772001         Isabella shirt             Shirt   \n",
              "28460   795675001  Gabbi tank/nina/nelia          Vest top   \n",
              "28461   795675003  Gabbi tank/nina/nelia          Vest top   \n",
              "\n",
              "       product_group_name colour_group_name perceived_colour_master_name  \\\n",
              "3264   Garment Upper body             Black                        Black   \n",
              "4038   Garment Lower body             Black                        Black   \n",
              "4047   Garment Upper body             Black                        Black   \n",
              "4065   Garment Lower body             Black                        Black   \n",
              "4567   Garment Upper body             Black                        Black   \n",
              "10713  Garment Upper body             White                        White   \n",
              "25964  Garment Upper body             Black                        Black   \n",
              "27732  Garment Upper body             White                        White   \n",
              "28460  Garment Upper body             Black                        Black   \n",
              "28461  Garment Upper body             White                        White   \n",
              "\n",
              "      index_group_name garment_group_name  \\\n",
              "3264        Ladieswear       Jersey Basic   \n",
              "4038        Ladieswear           Trousers   \n",
              "4047        Ladieswear            Dressed   \n",
              "4065        Ladieswear           Trousers   \n",
              "4567        Ladieswear            Dressed   \n",
              "10713       Ladieswear            Blouses   \n",
              "25964       Ladieswear            Dressed   \n",
              "27732       Ladieswear            Blouses   \n",
              "28460          Divided       Jersey Basic   \n",
              "28461          Divided       Jersey Basic   \n",
              "\n",
              "                                             detail_desc  freq_purchased  \\\n",
              "3264   T-shirt in soft jersey with a round neck, shor...             383   \n",
              "4038   Suit trousers in a stretch weave with a regula...            1103   \n",
              "4047   Fitted jacket in woven fabric with notch lapel...            1594   \n",
              "4065   Ankle-length, tailored trousers in woven fabri...             324   \n",
              "4567   Straight-cut jacket in woven fabric with notch...              88   \n",
              "10713  Straight-cut shirt in an airy cotton weave wit...             171   \n",
              "25964  Fitted, single-breasted jacket in woven fabric...             186   \n",
              "27732  Fitted shirt in a stretch weave made from a co...            1071   \n",
              "28460          Fitted vest top in stretch cotton jersey.             632   \n",
              "28461          Fitted vest top in stretch cotton jersey.             225   \n",
              "\n",
              "                               combined_desc  \n",
              "3264   T-shirt Black Ladieswear Jersey Basic  \n",
              "4038      Trousers Black Ladieswear Trousers  \n",
              "4047         Blazer Black Ladieswear Dressed  \n",
              "4065      Trousers Black Ladieswear Trousers  \n",
              "4567         Blazer Black Ladieswear Dressed  \n",
              "10713         Shirt White Ladieswear Blouses  \n",
              "25964        Blazer Black Ladieswear Dressed  \n",
              "27732         Shirt White Ladieswear Blouses  \n",
              "28460    Vest top Black Divided Jersey Basic  \n",
              "28461    Vest top White Divided Jersey Basic  "
            ]
          },
          "execution_count": 43,
          "metadata": {},
          "output_type": "execute_result"
        }
      ],
      "source": [
        "# This function should work\n",
        "items_to_recommend = get_collaborative_filtering_recommendations(user_similarity_matrix, '00000dbacae5abe5e23885899a1fa44253a17956c6d1c3d25f88aa139fdfc657')\n",
        "items_to_recommend"
      ]
    },
    {
      "cell_type": "markdown",
      "metadata": {
        "id": "g3PtGyaJeF5w"
      },
      "source": [
        "# Final Insights"
      ]
    },
    {
      "cell_type": "markdown",
      "metadata": {
        "colab": {
          "base_uri": "https://localhost:8080/",
          "height": 105
        },
        "id": "ywBECNz5SHIV",
        "outputId": "2d496898-b011-466e-993f-316d9aae414b"
      },
      "source": [
        "\n",
        "There three main customer segments: **frequent low spenders**, **moderate spenders with regular purchases**, and **infrequent low spenders**.\n",
        "\n",
        "#### **1. frequent low spenders **:\n",
        "- popular recommendations: will work for this group because they are frequent shoppers but tend to spend less. Popular items are often affordable and trendy, which aligns with their shopping behavior. However, since they already shop frequently, they may quickly become disengaged if recommendations lack variety.\n",
        "\n",
        "- content based filtering: could benefit from content-based filtering since it personalizes recommendations based on their past purchases. Offering similar, low-cost items could encourage continued frequent purchases while maintaining relevance to their preferences.\n",
        "\n",
        "- collaborative filtering: may also be effective for this group, as they share shopping patterns with other frequent buyers. Recommending items popular among similar low spenders could introduce them to new affordable products they may not have discovered.\n",
        "\n",
        "Best will be collaborative filtering  because this group shares behaviors with many other frequent shoppers, recommending items popular with similar customers is likely to keep them engaged while encouraging continuous purchases.\n",
        "\n",
        "---\n",
        "\n",
        "#### **2. moderate spenders with regular purchases **:\n",
        "- popular recommendations: less effective for moderate spenders, as they may prefer a more personal shopping experience and may not respond as well to items that appeal to the masses.\n",
        "\n",
        "- content based filtering : likely to be very effective for this group. Moderate spenders who shop regularly will appreciate receiving recommendations that are based on their specific past purchases. Personalized recommendations, such as suggesting higher-quality or complementary items to their previous purchases, can increase the value of each transaction.\n",
        "\n",
        "- collaborative filtering : may work well for moderate spenders as well, since they could benefit from discovering items that other similar customers are purchasing. However, the recommendations need to align with their spending habits, focusing on mid-range products.\n",
        "\n",
        "Best is moderate spenders will benefit the most from personalized recommendations that target their past behavior, allowing for a more tailored shopping experience and encouraging higher-value purchases (content based filtering)\n",
        "\n",
        "---\n",
        "\n",
        "#### **3. infrequent low spenders **:\n",
        "- popular recommendations: might be effective here because this segment tends to spend less and may be attracted by popular, affordable items. Popular items often represent low-risk choices, which may appeal to customers who shop infrequently.\n",
        "- content based filtering: less effective here, as their infrequent purchases provide limited data to generate relevant recommendations. Their low engagement means personalized recommendations may not hold much sway over their decisions.\n",
        "- collaborative filtering: could work, but only if there are enough similar customers to find good matches. However, because they are infrequent shoppers, collaborative filtering might recommend items that don’t necessarily match their irregular shopping habits.\n",
        "\n",
        "best is infrequent shoppers are drawn to popular items because these items are generally low-risk and widely accepted. It also requires minimal personalization, which aligns with their lower engagement.\n",
        "\n",
        "---"
      ]
    }
  ],
  "metadata": {
    "accelerator": "GPU",
    "colab": {
      "collapsed_sections": [
        "SzA7ATApV0_8",
        "be_YV5s4OMAO",
        "h554wJnJNns9",
        "wLb3Pj7NOucC",
        "Zik8TgsQrmzk",
        "GLVvm3UJXCCx",
        "LBzOThwCXqMv",
        "pWQKmreyO01Z",
        "uoA4SbrxO2tM",
        "PCM6ONfTl0wB",
        "dWV3V1aP16Uu",
        "E1FNQ5EsbHYj",
        "Z38S-TP3DnTZ",
        "u0Ydp-k-cfaL",
        "oiXwVn9eTaEM"
      ],
      "gpuType": "T4",
      "provenance": []
    },
    "kernelspec": {
      "display_name": "Python 3",
      "name": "python3"
    },
    "language_info": {
      "codemirror_mode": {
        "name": "ipython",
        "version": 3
      },
      "file_extension": ".py",
      "mimetype": "text/x-python",
      "name": "python",
      "nbconvert_exporter": "python",
      "pygments_lexer": "ipython3",
      "version": "3.11.9"
    }
  },
  "nbformat": 4,
  "nbformat_minor": 0
}
